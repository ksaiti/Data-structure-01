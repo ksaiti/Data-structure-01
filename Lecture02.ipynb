{
 "cells": [
  {
   "cell_type": "markdown",
   "id": "5d4a6e64-f645-4e15-a6fc-6068a76eae9d",
   "metadata": {},
   "source": [
    "# Data Structure and Algorithms - Lecture Recap\n",
    "\n",
    "## Lecture 1: O Notation\n",
    "\n",
    "### Big O Notation\n",
    "Big O Notation is used to describe the performance or complexity of an algorithm. Specifically, it describes the worst-case scenario and the execution time or the space used.\n",
    "\n",
    "### Common Big O Notations:\n",
    "- **O(1)**: Constant time\n",
    "- **O(log n)**: Logarithmic time\n",
    "- **O(n)**: Linear time\n",
    "- **O(n log n)**: Log-linear time\n",
    "- **O(n^2)**: Quadratic time\n",
    "- **O(2^n)**: Exponential time\n",
    "- **O(n!)**: Factorial time\n",
    "\n",
    "```python\n",
    "# Example of O(n) - Linear time complexity\n",
    "def linear_search(arr, target):\n",
    "    for i in range(len(arr)):\n",
    "        if arr[i] == target:\n",
    "            return i\n",
    "    return -1\n"
   ]
  },
  {
   "cell_type": "markdown",
   "id": "7020fc1c-f2d2-420b-af14-b04058dae334",
   "metadata": {},
   "source": [
    "# Lecture 2: Average and Worst Case Analysis, Arrays, Linked Lists, Stacks, Queues, and Priority Queue\n",
    "Average and Worst Case Analysis\n",
    "When analyzing algorithms, it's important to consider both the average case and the worst-case scenarios.\n",
    "\n",
    "## Binary search\n",
    "\n",
    "Binary search is an efficient algorithm for finding an item from a sorted list of items. It works by repeatedly dividing the search interval in half.\n",
    "\n",
    "Average Case: O(log n)\n",
    "\n",
    "Worst Case: O(log n)\n",
    "\n",
    "def binary_search(arr, target):\n",
    "    left, right = 0, len(arr) - 1\n",
    "    while left <= right:\n",
    "        mid = (left + right) // 2\n",
    "        if arr[mid] == target:\n",
    "            return mid\n",
    "        elif arr[mid] < target:\n",
    "            left = mid + 1\n",
    "        else:\n",
    "            right = mid - 1\n",
    "    return -1\n",
    "\n",
    "# Example usage\n",
    "arr = [1, 2, 3, 4, 5, 6, 7, 8, 9]\n",
    "target = 7\n",
    "\n",
    "# Searching for target\n",
    "index = binary_search(arr, target)\n",
    "\n",
    "# Output the result\n",
    "if index != -1:\n",
    "    print(f\"Element found at index {index}\")\n",
    "else:\n",
    "    print(\"Element not found\")\n",
    "\n",
    "# Output:\n",
    "# Element found at index 6\n",
    "\n",
    "In this example:\n",
    "\n",
    "Worst Case: The target element is not in the list, and the algorithm will perform log(n) comparisons, where n is the number of elements in the list.\n",
    "\n",
    "Average Case: On average, the target will be found after log(n) comparisons.\n",
    "\n",
    "\n"
   ]
  },
  {
   "cell_type": "code",
   "execution_count": 6,
   "id": "4d39f148-965f-4578-a70d-f12d16865a1d",
   "metadata": {},
   "outputs": [
    {
     "name": "stdout",
     "output_type": "stream",
     "text": [
      "Element found at index 6\n"
     ]
    }
   ],
   "source": [
    "def binary_search(arr, target):\n",
    "    left, right = 0, len(arr) - 1\n",
    "    while left <= right:\n",
    "        mid = (left + right) // 2\n",
    "        if arr[mid] == target:\n",
    "            return mid\n",
    "        elif arr[mid] < target:\n",
    "            left = mid + 1\n",
    "        else:\n",
    "            right = mid - 1\n",
    "    return -1\n",
    "\n",
    "# Example usage\n",
    "arr = [1, 2, 3, 4, 5, 6, 7, 8, 9]\n",
    "target = 7\n",
    "\n",
    "# Searching for target\n",
    "index = binary_search(arr, target)\n",
    "\n",
    "# Output the result\n",
    "if index != -1:\n",
    "    print(f\"Element found at index {index}\")\n",
    "else:\n",
    "    print(\"Element not found\")\n",
    "\n",
    "# Output:\n",
    "# Element found at index 6\n"
   ]
  },
  {
   "cell_type": "markdown",
   "id": "ce969015-39ae-444c-a569-34ab71bb89dc",
   "metadata": {},
   "source": [
    "# Arrays\n",
    "## Arrays are a collection of items stored at contiguous memory locations.\n",
    "\n",
    "Access time: O(1)\n",
    "\n",
    "Insertion time: O(n)\n",
    "\n",
    "Deletion time: O(n)"
   ]
  },
  {
   "cell_type": "code",
   "execution_count": 12,
   "id": "9c263666-708d-4404-815f-da12fa7de490",
   "metadata": {},
   "outputs": [
    {
     "name": "stdout",
     "output_type": "stream",
     "text": [
      "3\n"
     ]
    }
   ],
   "source": [
    "# Example of array usage\n",
    "arr = [1, 2, 3, 4, 5]\n",
    "print(arr[2])  # Accessing element at index 2\n",
    "arr.append(6)  # Inserting element at the end\n",
    "arr.remove(3)  # Deleting element with value 3\n"
   ]
  },
  {
   "cell_type": "markdown",
   "id": "94c88e9b-8626-4fe2-ba6d-f7320f408b5a",
   "metadata": {},
   "source": [
    "# exercise\n",
    "1. create an array with 6 elements\n",
    "2. print the array\n",
    "3. print the third element\n",
    "4. insert an element(=5)  at the end\n",
    "5. print the new array\n",
    "6. remove the last element\n",
    "7. print the new element \n"
   ]
  },
  {
   "cell_type": "markdown",
   "id": "016f44e8-3497-4b19-af7a-9b76f36b3a0b",
   "metadata": {},
   "source": [
    "# Linked Lists\n",
    "# A linked list is a linear data structure where each element is a separate object.\n",
    "\n",
    "Access time: O(n)\n",
    "\n",
    "Insertion time: O(1)\n",
    "\n",
    "Deletion time: O(1)"
   ]
  },
  {
   "cell_type": "code",
   "execution_count": 16,
   "id": "428da542-a5f2-4ed3-a59a-2473e6fc9d45",
   "metadata": {},
   "outputs": [
    {
     "name": "stdout",
     "output_type": "stream",
     "text": [
      "Linked list after inserting 1, 2, 3:\n",
      "1 -> 2 -> 3 -> None\n",
      "Linked list after deleting 2:\n",
      "1 -> 3 -> None\n",
      "Linked list after inserting 4:\n",
      "4 -> 1 -> 3 -> None\n"
     ]
    }
   ],
   "source": [
    "# Example of linked list usage\n",
    "class Node:\n",
    "    def __init__(self, data):\n",
    "        self.data = data\n",
    "        self.next = None\n",
    "\n",
    "class LinkedList:\n",
    "    def __init__(self):\n",
    "        self.head = None\n",
    "\n",
    "    def insert(self, data):\n",
    "        new_node = Node(data)\n",
    "        new_node.next = self.head\n",
    "        self.head = new_node\n",
    "\n",
    "    def delete(self, key):\n",
    "        temp = self.head\n",
    "        if temp is not None:\n",
    "            if temp.data == key:\n",
    "                self.head = temp.next\n",
    "                temp = None\n",
    "                return\n",
    "        while temp is not None:\n",
    "            if temp.data == key:\n",
    "                break\n",
    "            prev = temp\n",
    "            temp = temp.next\n",
    "        if temp == None:\n",
    "            return\n",
    "        prev.next = temp.next\n",
    "        temp = None\n",
    "\n",
    "    def print_list(self):\n",
    "        temp = self.head\n",
    "        while temp:\n",
    "            print(temp.data, end=' -> ')\n",
    "            temp = temp.next\n",
    "        print('None')\n",
    "\n",
    "# Create a linked list\n",
    "ll = LinkedList()\n",
    "\n",
    "# Insert elements into the linked list\n",
    "ll.insert(3)\n",
    "ll.insert(2)\n",
    "ll.insert(1)\n",
    "\n",
    "print(\"Linked list after inserting 1, 2, 3:\")\n",
    "ll.print_list()  # Output: 1 -> 2 -> 3 -> None\n",
    "\n",
    "# Delete an element from the linked list\n",
    "ll.delete(2)\n",
    "\n",
    "print(\"Linked list after deleting 2:\")\n",
    "ll.print_list()  # Output: 1 -> 3 -> None\n",
    "\n",
    "# Insert another element\n",
    "ll.insert(4)\n",
    "\n",
    "print(\"Linked list after inserting 4:\")\n",
    "ll.print_list()  # Output: 4 -> 1 -> 3 -> None\n",
    "\n"
   ]
  },
  {
   "cell_type": "markdown",
   "id": "3027307f-13cf-466a-a20b-f5d24a51d853",
   "metadata": {},
   "source": [
    "# Stacks "
   ]
  },
  {
   "cell_type": "code",
   "execution_count": 19,
   "id": "49d3bf2a-0dc2-4ae2-8cf8-fa277ada6c17",
   "metadata": {},
   "outputs": [
    {
     "name": "stdout",
     "output_type": "stream",
     "text": [
      "2\n"
     ]
    }
   ],
   "source": [
    "# Example of stack usage\n",
    "stack = []\n",
    "stack.append(1)  # Push\n",
    "stack.append(2)\n",
    "print(stack.pop())  # Pop\n",
    "\n",
    "# Output:\n",
    "# 2\n"
   ]
  },
  {
   "cell_type": "markdown",
   "id": "40ad113b-d50a-4c35-9aaf-3249906e94c0",
   "metadata": {},
   "source": [
    "# Queues\n",
    "\n",
    "A queue is a linear data structure that follows the First In First Out (FIFO) principle. This means that the first element added to the queue will be the first one to be removed. You can think of it like a line of people waiting for a bus – the person who gets in line first is the first one to board the bus.\n",
    "\n",
    "## Characteristics of Queues:\n",
    "### FIFO (First In First Out): Elements are dequeued in the same order they were enqueued.\n",
    "\n",
    "#### Operations:\n",
    "\n",
    "Enqueue: Adding an element to the end of the queue.\n",
    "\n",
    "Dequeue: Removing the element from the front of the queue.\n",
    "\n",
    "Peek/Front: Viewing the element at the front of the queue without removing it.\n",
    "\n",
    "IsEmpty: Checking if the queue is empty."
   ]
  },
  {
   "cell_type": "code",
   "execution_count": 24,
   "id": "523b09bd-ec0d-4924-9aea-c2c4b3756a5f",
   "metadata": {},
   "outputs": [
    {
     "name": "stdout",
     "output_type": "stream",
     "text": [
      "Queue after enqueuing 1, 2, 3:\n",
      "deque([1, 2, 3])\n",
      "Dequeued element: 1\n",
      "Queue after dequeuing an element:\n",
      "deque([2, 3])\n",
      "Front element: 2\n",
      "Is the queue empty? False\n"
     ]
    }
   ],
   "source": [
    "#Example og a Queue\n",
    "\n",
    "## In the following example:\n",
    "# 1. We create a queue using deque from the collections module.\n",
    "\n",
    "# 2. We enqueue three elements (1, 2, 3).\n",
    "\n",
    "# 3. We dequeue the first element and display it.\n",
    "\n",
    "# 4. We peek at the front element without removing it.\n",
    "\n",
    "# 5. We check if the queue is empty.\n",
    "\n",
    "from collections import deque\n",
    "\n",
    "# Create a queue\n",
    "queue = deque()\n",
    "\n",
    "# Enqueue elements\n",
    "queue.append(1)\n",
    "queue.append(2)\n",
    "queue.append(3)\n",
    "\n",
    "print(\"Queue after enqueuing 1, 2, 3:\")\n",
    "print(queue)  # Output: deque([1, 2, 3])\n",
    "\n",
    "# Dequeue elements\n",
    "first = queue.popleft()\n",
    "print(f\"Dequeued element: {first}\")\n",
    "\n",
    "print(\"Queue after dequeuing an element:\")\n",
    "print(queue)  # Output: deque([2, 3])\n",
    "\n",
    "# Peek at the front element\n",
    "front = queue[0]\n",
    "print(f\"Front element: {front}\")\n",
    "\n",
    "# Check if the queue is empty\n",
    "is_empty = len(queue) == 0\n",
    "print(f\"Is the queue empty? {is_empty}\")"
   ]
  },
  {
   "cell_type": "code",
   "execution_count": 26,
   "id": "2314e33b-4453-4310-9bd9-512818d8b5a5",
   "metadata": {},
   "outputs": [
    {
     "name": "stdout",
     "output_type": "stream",
     "text": [
      "(1, 'task1')\n"
     ]
    }
   ],
   "source": [
    "#Priority queue\n",
    "\n",
    "import heapq\n",
    "\n",
    "# Example of priority queue usage\n",
    "pq = []\n",
    "heapq.heappush(pq, (1, 'task1'))  # Insert element with priority\n",
    "heapq.heappush(pq, (2, 'task2'))\n",
    "print(heapq.heappop(pq))  # Remove element with highest priority\n",
    "\n",
    "# Output:\n",
    "# (1, 'task1')\n",
    "\n"
   ]
  },
  {
   "cell_type": "code",
   "execution_count": 28,
   "id": "46ef0b5e-c9cf-4a6a-90b8-fbff5f7e9caf",
   "metadata": {},
   "outputs": [
    {
     "name": "stdout",
     "output_type": "stream",
     "text": [
      "(1, 'task1')\n",
      "[(2, 'task2')]\n",
      "(0, 'task3')\n"
     ]
    }
   ],
   "source": [
    "import heapq\n",
    "\n",
    "# Priority queue operations\n",
    "pq = []\n",
    "heapq.heappush(pq, (1, 'task1'))  # Insert element with priority\n",
    "heapq.heappush(pq, (2, 'task2'))\n",
    "print(heapq.heappop(pq))  # Remove element with highest priority\n",
    "print(pq)\n",
    "heapq.heappush(pq, (0, 'task3'))\n",
    "print(pq[0])  # Peek\n"
   ]
  },
  {
   "cell_type": "markdown",
   "id": "79ffc3b2-a773-4d9a-b832-cccc358b8ddf",
   "metadata": {},
   "source": [
    "# Example: Customer Service Queue\n",
    "\n",
    "## Customer Service at a Bank.\n",
    "\n",
    "In a bank, customers arrive and wait in line to be served by a teller. This is a classic example of a queue, where the first customer to arrive is the first one to be served.\n",
    "\n",
    "\n"
   ]
  },
  {
   "cell_type": "code",
   "execution_count": 31,
   "id": "a5b3a4a9-5af7-486c-883b-7a2936b49f48",
   "metadata": {},
   "outputs": [
    {
     "name": "stdout",
     "output_type": "stream",
     "text": [
      "Customer_1 has arrived and is waiting in line.\n",
      "Customer_2 has arrived and is waiting in line.\n",
      "Customer_3 has arrived and is waiting in line.\n",
      "Customer_4 has arrived and is waiting in line.\n",
      "Customer_5 has arrived and is waiting in line.\n",
      "\n",
      "Starting to serve customers...\n",
      "\n",
      "Customer_1 is being served.\n",
      "Customer_2 is being served.\n",
      "Customer_3 is being served.\n",
      "Customer_4 is being served.\n",
      "Customer_5 is being served.\n",
      "All customers have been served.\n"
     ]
    }
   ],
   "source": [
    "from collections import deque\n",
    "import random\n",
    "import time\n",
    "\n",
    "# Define a queue to represent customers waiting in line\n",
    "customer_queue = deque()\n",
    "\n",
    "# Define a function to simulate customers arriving at the bank\n",
    "def add_customers(queue, num_customers):\n",
    "    for i in range(num_customers):\n",
    "        customer_id = f\"Customer_{i+1}\"\n",
    "        queue.append(customer_id)\n",
    "        print(f\"{customer_id} has arrived and is waiting in line.\")\n",
    "        time.sleep(random.uniform(0.1, 0.5))  # Simulate random arrival times\n",
    "\n",
    "# Define a function to simulate serving customers\n",
    "def serve_customers(queue):\n",
    "    while queue:\n",
    "        current_customer = queue.popleft()\n",
    "        print(f\"{current_customer} is being served.\")\n",
    "        time.sleep(random.uniform(0.5, 1.5))  # Simulate varying service times\n",
    "    print(\"All customers have been served.\")\n",
    "\n",
    "# Simulate customers arriving at the bank\n",
    "add_customers(customer_queue, 5)  # Add 5 customers to the queue\n",
    "\n",
    "print(\"\\nStarting to serve customers...\\n\")\n",
    "\n",
    "# Simulate serving customers\n",
    "serve_customers(customer_queue)\n"
   ]
  },
  {
   "cell_type": "markdown",
   "id": "df6fc506-660b-4dcb-a432-f29567b621ba",
   "metadata": {},
   "source": [
    "# Exercise\n",
    "\n",
    "## Event Ticketing System\n",
    "\n",
    "1. Define a queue to represent attendees waiting to buy tickets\n",
    "2. Define a function to simulate attendees arriving to buy tickets\n",
    "3. Define a function to simulate selling tickets to attendees\n",
    "4. Simulate attendees arriving to buy tickets\n",
    "5. Simulate selling tickets to attendees"
   ]
  },
  {
   "cell_type": "code",
   "execution_count": null,
   "id": "101ada18-146a-4826-bf8e-785015f81525",
   "metadata": {},
   "outputs": [],
   "source": []
  }
 ],
 "metadata": {
  "kernelspec": {
   "display_name": "Python [conda env:base] *",
   "language": "python",
   "name": "conda-base-py"
  },
  "language_info": {
   "codemirror_mode": {
    "name": "ipython",
    "version": 3
   },
   "file_extension": ".py",
   "mimetype": "text/x-python",
   "name": "python",
   "nbconvert_exporter": "python",
   "pygments_lexer": "ipython3",
   "version": "3.12.7"
  }
 },
 "nbformat": 4,
 "nbformat_minor": 5
}
