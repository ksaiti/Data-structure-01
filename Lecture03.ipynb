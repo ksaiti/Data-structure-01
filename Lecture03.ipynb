{
 "cells": [
  {
   "cell_type": "markdown",
   "id": "6bab07e9-6aa5-46fa-b278-28f5045eeb11",
   "metadata": {},
   "source": [
    "### Trees - A Detailed Overview\n",
    "\n",
    "#### **Definition of a Tree**\n",
    "A tree is a hierarchical data structure that consists of nodes connected by edges. It is a non-linear data structure because, unlike arrays or linked lists, the elements do not follow a sequential order. Trees are used to model hierarchical relationships such as organizational structures, file systems, decision-making processes, and more.\n",
    "\n",
    "**Basic Tree Terms (in Greek):**\n",
    "- **Node (Κόμβος)**: A fundamental element of a tree that contains data.\n",
    "- **Edge (Άκρη)**: A connection between two nodes.\n",
    "- **Root (Ρίζα)**: The top node of the tree. It has no parent.\n",
    "- **Leaf (Φύλλο)**: A node that has no children.\n",
    "- **Parent (Γονέας)**: A node that has one or more children.\n",
    "- **Child (Παιδί)**: A node that has a parent.\n",
    "\n",
    "#### **Binary Trees**\n",
    "\n",
    "A **binary tree** is a specific type of tree where each node has at most two children, typically called the **left child** and the **right child**. \n",
    "\n",
    "**Why Binary Trees?**\n",
    "- Binary trees are useful in representing hierarchical structures where each decision or element can branch into two possibilities. A common example is the representation of **decision-making processes** (like a binary decision tree), where each choice leads to one of two outcomes.\n",
    "\n",
    "**Special Types of Binary Trees:**\n",
    "- **Full Binary Tree** (Πλήρης Δυαδικό Δέντρο): Every node has either 0 or 2 children.\n",
    "- **Complete Binary Tree** (Ολοκληρωμένο Δυαδικό Δέντρο): All levels of the tree are fully filled except possibly for the last level, which is filled from left to right.\n",
    "- **Perfect Binary Tree** (Τέλειο Δυαδικό Δέντρο): All internal nodes have two children, and all leaf nodes are at the same level.\n",
    "\n",
    "#### **Tree Traversals**\n",
    "\n",
    "Tree traversal is the process of visiting all the nodes in a tree in a specific order. Tree traversals are crucial for searching, printing, or performing any operations over a tree structure. The three common types of depth-first traversal are:\n",
    "\n",
    "1. **Preorder Traversal** (Προκαταρκτική Διάσχιση): \n",
    "   - Visit the root node first.\n",
    "   - Then traverse the left subtree.\n",
    "   - Finally, traverse the right subtree.\n",
    "   \n",
    "   This is useful when you need to process the root node before its children (e.g., in evaluating expressions).\n",
    "\n",
    "2. **Inorder Traversal** (Ενδιάμεση Διάσχιση): \n",
    "   - Traverse the left subtree first.\n",
    "   - Then visit the root node.\n",
    "   - Finally, traverse the right subtree.\n",
    "   \n",
    "   This is used for searching or printing data in ascending order if the tree is a binary search tree (BST). It's useful in database queries, for instance, to fetch sorted data.\n",
    "\n",
    "3. **Postorder Traversal** (Μετακαταληκτική Διάσχιση):\n",
    "   - Traverse the left subtree.\n",
    "   - Then traverse the right subtree.\n",
    "   - Finally, visit the root node.\n",
    "   \n",
    "   This is useful when performing operations like deleting nodes (since we need to process the children first).\n",
    "\n",
    "4. **Level Order Traversal** (Διάσχιση Κατά Επίπεδο):\n",
    "   - This is a breadth-first traversal where we visit the nodes level by level, from left to right.\n",
    "   - It is commonly used in tasks like printing a tree or finding the shortest path in unweighted graphs.\n",
    "\n",
    "#### **Binary Search Trees (BST)**\n",
    "\n",
    "A **Binary Search Tree (BST)** is a special kind of binary tree where the left subtree of a node contains only nodes with values **less than** the node's key, and the right subtree contains only nodes with values **greater than** the node's key. This ordering property makes BSTs very efficient for searching, inserting, and deleting nodes.\n",
    "\n",
    "**Why BSTs?**\n",
    "- **Efficient Searching**: Searching for a value in a BST takes **O(log n)** time on average, which is faster than searching through an unsorted list (O(n)).\n",
    "- **Efficient Insertion and Deletion**: Inserting and deleting elements in a BST can also be done efficiently in O(log n) time.\n",
    "- **Real-World Use Case**: Databases often use a form of BST (like a B-tree) to store and efficiently query large datasets. For example, searching for a record in a sorted dataset can be done in logarithmic time using a BST structure.\n",
    "\n",
    "#### **Basic Terms Related to BSTs:**\n",
    "- **Node (Κόμβος)**: A single element in the tree, which holds a key and pointers to its left and right children.\n",
    "- **Left Child (Αριστερό Παιδί)**: A child node that holds a key smaller than its parent node.\n",
    "- **Right Child (Δεξί Παιδί)**: A child node that holds a key greater than its parent node.\n",
    "- **Root (Ρίζα)**: The top-most node in the tree.\n",
    "- **Leaf (Φύλλο)**: A node with no children.\n",
    "\n",
    "#### **Real-World Applications of Trees**\n",
    "1. **File Systems**: The structure of a computer's file system is often modeled as a tree, where directories are nodes, and files are leaf nodes. This allows for efficient management of files and folders.\n",
    "2. **Databases**: BSTs and other tree structures like B-trees are widely used in indexing databases to allow fast retrieval of records.\n",
    "3. **Decision Trees**: In machine learning, decision trees (a type of binary tree) are used for classification and regression tasks. The nodes represent decisions or tests, and the branches represent outcomes.\n",
    "\n",
    "### Example Use Case in a Binary Search Tree:\n",
    "- If you were building an address book application and wanted to store contacts by their name, a **binary search tree** would allow you to efficiently insert, search, and delete contact records based on names.\n",
    "\n",
    "#### **Conclusion:**\n",
    "In summary, trees and specifically binary search trees are fundamental data structures used to model hierarchical data and allow efficient operations. By understanding trees and their traversal methods, we can solve real-world problems such as efficiently searching large datasets, organizing information, and building complex systems like file systems or databases.\n"
   ]
  },
  {
   "cell_type": "code",
   "execution_count": 13,
   "id": "a40c875b-62f5-412a-8694-5510be80f0cb",
   "metadata": {},
   "outputs": [
    {
     "name": "stdout",
     "output_type": "stream",
     "text": [
      "Inorder traversal of the BST:\n",
      "20 30 40 50 60 70 80 \n",
      "\n",
      "Preorder traversal of the BST:\n",
      "50 30 20 40 70 60 80 \n",
      "\n",
      "Postorder traversal of the BST:\n",
      "20 40 30 60 80 70 50 \n",
      "\n"
     ]
    },
    {
     "data": {
      "image/png": "[encoded data removed]",
      "text/plain": [
       "<Figure size 800x600 with 1 Axes>"
      ]
     },
     "metadata": {},
     "output_type": "display_data"
    }
   ],
   "source": [
    "import matplotlib.pyplot as plt\n",
    "import networkx as nx\n",
    "\n",
    "class Node:\n",
    "    # Constructor to create a new node\n",
    "    def __init__(self, key):\n",
    "        self.left = None  # Initialize left child\n",
    "        self.right = None  # Initialize right child\n",
    "        self.val = key  # Assign the value to the node\n",
    "\n",
    "# Function to perform Inorder Traversal\n",
    "\n",
    "def inorder(root):\n",
    "    if root:\n",
    "        inorder(root.left)  # Recursively visit the left subtree\n",
    "        print(root.val, end=\" \")  # Print the value of the node\n",
    "        inorder(root.right)  # Recursively visit the right subtree\n",
    "\n",
    "# Function to perform Preorder Traversal\n",
    "\n",
    "def preorder(root):\n",
    "    if root:\n",
    "        print(root.val, end=\" \")  # Print the value of the node\n",
    "        preorder(root.left)  # Recursively visit the left subtree\n",
    "        preorder(root.right)  # Recursively visit the right subtree\n",
    "\n",
    "# Function to perform Postorder Traversal\n",
    "\n",
    "def postorder(root):\n",
    "    if root:\n",
    "        postorder(root.left)  # Recursively visit the left subtree\n",
    "        postorder(root.right)  # Recursively visit the right subtree\n",
    "        print(root.val, end=\" \")  # Print the value of the node\n",
    "\n",
    "# Function to insert a new node in the BST\n",
    "\n",
    "def insert(root, key):\n",
    "    if root is None:\n",
    "        return Node(key)  # If the tree is empty, return a new node\n",
    "    else:\n",
    "        if key < root.val:\n",
    "            root.left = insert(root.left, key)  # Recur on the left subtree\n",
    "        else:\n",
    "            root.right = insert(root.right, key)  # Recur on the right subtree\n",
    "    return root  # Return the unchanged root node\n",
    "\n",
    "# Function to visualize the BST\n",
    "\n",
    "def visualize_tree(root, graph=None, pos=None, level=0, x=0, y=0, layer_width=10):\n",
    "    if graph is None:\n",
    "        graph = nx.DiGraph()\n",
    "        pos = {}\n",
    "    if root:\n",
    "        pos[root.val] = (x, y)\n",
    "        if root.left:\n",
    "            graph.add_edge(root.val, root.left.val)\n",
    "            visualize_tree(root.left, graph, pos, level + 1, x - layer_width / 2 ** (level + 1), y - 1, layer_width)\n",
    "        if root.right:\n",
    "            graph.add_edge(root.val, root.right.val)\n",
    "            visualize_tree(root.right, graph, pos, level + 1, x + layer_width / 2 ** (level + 1), y - 1, layer_width)\n",
    "    return graph, pos\n",
    "\n",
    "# Example Usage\n",
    "\n",
    "# Creating the root node\n",
    "root = Node(50)\n",
    "# Inserting nodes into the BST\n",
    "root = insert(root, 30)\n",
    "root = insert(root, 20)\n",
    "root = insert(root, 40)\n",
    "root = insert(root, 70)\n",
    "root = insert(root, 60)\n",
    "root = insert(root, 80)\n",
    "\n",
    "# Printing the inorder traversal of the BST\n",
    "print(\"Inorder traversal of the BST:\")\n",
    "inorder(root)\n",
    "print(\"\\n\")\n",
    "\n",
    "# Printing the preorder traversal of the BST\n",
    "print(\"Preorder traversal of the BST:\")\n",
    "preorder(root)\n",
    "print(\"\\n\")\n",
    "\n",
    "# Printing the postorder traversal of the BST\n",
    "print(\"Postorder traversal of the BST:\")\n",
    "postorder(root)\n",
    "print(\"\\n\")\n",
    "\n",
    "# Visualizing the BST\n",
    "graph, pos = visualize_tree(root)\n",
    "plt.figure(figsize=(8, 6))\n",
    "nx.draw(graph, pos, with_labels=True, node_size=2000, node_color='lightblue', font_size=10, font_weight='bold', edge_color='gray')\n",
    "plt.show()\n"
   ]
  },
  {
   "cell_type": "code",
   "execution_count": 18,
   "id": "34bea4a3-8d9d-42df-b870-be87af22323c",
   "metadata": {},
   "outputs": [
    {
     "name": "stdout",
     "output_type": "stream",
     "text": [
      "\n",
      "Real-World Scenario: File System Structure\n",
      "Imagine a computer's file system where directories contain subdirectories and files. The root node represents the main directory, and each child node represents subdirectories or files.\n",
      "Preorder traversal can be used to list all directories and files in a hierarchical order.\n",
      "Inorder traversal can help sort and organize directories in lexicographical order.\n",
      "Postorder traversal can be useful for tasks like deleting a directory and its contents in a bottom-up approach.\n"
     ]
    }
   ],
   "source": [
    "# Real-world Scenario Example\n",
    "print(\"\\nReal-World Scenario: File System Structure\")\n",
    "print(\"Imagine a computer's file system where directories contain subdirectories and files. The root node represents the main directory, and each child node represents subdirectories or files.\")\n",
    "print(\"Preorder traversal can be used to list all directories and files in a hierarchical order.\")\n",
    "print(\"Inorder traversal can help sort and organize directories in lexicographical order.\")\n",
    "print(\"Postorder traversal can be useful for tasks like deleting a directory and its contents in a bottom-up approach.\")"
   ]
  },
  {
   "cell_type": "code",
   "execution_count": 16,
   "id": "7209e7c7-a86e-482e-89f3-caf9fe7210e4",
   "metadata": {},
   "outputs": [
    {
     "name": "stdout",
     "output_type": "stream",
     "text": [
      "\n",
      "Preorder Traversal of File System:\n",
      "root\n",
      "Documents\n",
      "file1.txt\n",
      "file2.txt\n",
      "Pictures\n",
      "photo1.jpg\n",
      "Music\n",
      "song1.mp3\n",
      "\n",
      "Postorder Traversal (Deletion Order):\n",
      "Deleting: file1.txt\n",
      "Deleting: file2.txt\n",
      "Deleting: Documents\n",
      "Deleting: photo1.jpg\n",
      "Deleting: Pictures\n",
      "Deleting: song1.mp3\n",
      "Deleting: Music\n",
      "Deleting: root\n"
     ]
    }
   ],
   "source": [
    "# Real-world Scenario Example: File System Structure\n",
    "\n",
    "class FileNode:\n",
    "    def __init__(self, name):\n",
    "        self.name = name\n",
    "        self.children = []\n",
    "    \n",
    "    def add_child(self, child):\n",
    "        self.children.append(child)\n",
    "\n",
    "# Function to perform Preorder Traversal (List all files and directories)\n",
    "def preorder_filesystem(root):\n",
    "    if root:\n",
    "        print(root.name)\n",
    "        for child in root.children:\n",
    "            preorder_filesystem(child)\n",
    "\n",
    "# Function to perform Postorder Traversal (Deleting directories bottom-up)\n",
    "def postorder_filesystem(root):\n",
    "    if root:\n",
    "        for child in root.children:\n",
    "            postorder_filesystem(child)\n",
    "        print(\"Deleting:\", root.name)\n",
    "\n",
    "# Example File System Structure\n",
    "root_dir = FileNode(\"root\")\n",
    "documents = FileNode(\"Documents\")\n",
    "pictures = FileNode(\"Pictures\")\n",
    "music = FileNode(\"Music\")\n",
    "file1 = FileNode(\"file1.txt\")\n",
    "file2 = FileNode(\"file2.txt\")\n",
    "photo1 = FileNode(\"photo1.jpg\")\n",
    "song1 = FileNode(\"song1.mp3\")\n",
    "\n",
    "# Constructing the file system tree\n",
    "root_dir.add_child(documents)\n",
    "root_dir.add_child(pictures)\n",
    "root_dir.add_child(music)\n",
    "documents.add_child(file1)\n",
    "documents.add_child(file2)\n",
    "pictures.add_child(photo1)\n",
    "music.add_child(song1)\n",
    "\n",
    "# Performing Preorder Traversal\n",
    "print(\"\\nPreorder Traversal of File System:\")\n",
    "preorder_filesystem(root_dir)\n",
    "\n",
    "# Performing Postorder Traversal\n",
    "print(\"\\nPostorder Traversal (Deletion Order):\")\n",
    "postorder_filesystem(root_dir)\n"
   ]
  },
  {
   "cell_type": "code",
   "execution_count": 20,
   "id": "fb7d2110-4593-43ea-b506-f626ce0e688d",
   "metadata": {},
   "outputs": [
    {
     "name": "stdout",
     "output_type": "stream",
     "text": [
      "\n",
      "Class Exercise:\n",
      "1. Construct a Binary Search Tree with the following elements: [45, 25, 15, 35, 75, 55, 85]\n",
      "2. Implement and execute inorder, preorder, and postorder traversal functions on the BST.\n",
      "3. Create a file system structure with at least two levels of depth and perform both preorder and postorder traversals on it.\n",
      "4. Visualize the resulting BST and explain how each traversal method is applied.\n"
     ]
    }
   ],
   "source": [
    "# Exercise for the students\n",
    "print(\"\\nClass Exercise 1:\")\n",
    "print(\"1. Construct a Binary Search Tree with the following elements: [45, 25, 15, 35, 75, 55, 85]\")\n",
    "print(\"2. Implement and execute inorder, preorder, and postorder traversal functions on the BST.\")\n",
    "print(\"3. Create a file system structure with at least two levels of depth and perform both preorder and postorder traversals on it.\")\n",
    "print(\"4. Visualize the resulting BST and explain how each traversal method is applied.\")"
   ]
  },
  {
   "cell_type": "code",
   "execution_count": 22,
   "id": "7c6f3e8e-70d9-48ed-b007-9f43ecb37429",
   "metadata": {},
   "outputs": [],
   "source": [
    "# Constructing the BST\n",
    "solution_root = Node(45)\n",
    "solution_root = insert(solution_root, 25)\n",
    "solution_root = insert(solution_root, 15)\n",
    "solution_root = insert(solution_root, 35)\n",
    "solution_root = insert(solution_root, 75)\n",
    "solution_root = insert(solution_root, 55)\n",
    "solution_root = insert(solution_root, 85)"
   ]
  },
  {
   "cell_type": "code",
   "execution_count": 24,
   "id": "68951e27-235b-46a2-be90-a14d1638b8ec",
   "metadata": {},
   "outputs": [
    {
     "name": "stdout",
     "output_type": "stream",
     "text": [
      "\n",
      "Solution - Inorder Traversal:\n",
      "15 25 35 45 55 75 85 \n",
      "\n",
      "Solution - Preorder Traversal:\n",
      "45 25 15 35 75 55 85 \n",
      "\n",
      "Solution - Postorder Traversal:\n",
      "15 35 25 55 85 75 45 \n",
      "\n"
     ]
    }
   ],
   "source": [
    "# Performing traversals\n",
    "print(\"\\nSolution - Inorder Traversal:\")\n",
    "inorder(solution_root)\n",
    "print(\"\\n\\nSolution - Preorder Traversal:\")\n",
    "preorder(solution_root)\n",
    "print(\"\\n\\nSolution - Postorder Traversal:\")\n",
    "postorder(solution_root)\n",
    "print(\"\\n\")"
   ]
  },
  {
   "cell_type": "code",
   "execution_count": 26,
   "id": "d1232a17-45bc-4b1e-acba-4efb9bb5e027",
   "metadata": {},
   "outputs": [
    {
     "data": {
      "image/png": "[encoded data removed]",
      "text/plain": [
       "<Figure size 800x600 with 1 Axes>"
      ]
     },
     "metadata": {},
     "output_type": "display_data"
    }
   ],
   "source": [
    "# Visualizing the BST\n",
    "graph, pos = visualize_tree(solution_root)\n",
    "plt.figure(figsize=(8, 6))\n",
    "nx.draw(graph, pos, with_labels=True, node_size=2000, node_color='lightblue', font_size=10, font_weight='bold', edge_color='gray')\n",
    "plt.show()"
   ]
  },
  {
   "cell_type": "code",
   "execution_count": 28,
   "id": "ba7ad40c-5f05-42e1-bc88-9c5284cd7259",
   "metadata": {},
   "outputs": [],
   "source": [
    "# Solution for File System Exercise\n",
    "solution_root_dir = FileNode(\"root\")\n",
    "documents = FileNode(\"Documents\")\n",
    "pictures = FileNode(\"Pictures\")\n",
    "music = FileNode(\"Music\")\n",
    "file1 = FileNode(\"file1.txt\")\n",
    "file2 = FileNode(\"file2.txt\")\n",
    "photo1 = FileNode(\"photo1.jpg\")\n",
    "song1 = FileNode(\"song1.mp3\")"
   ]
  },
  {
   "cell_type": "code",
   "execution_count": 30,
   "id": "7d3c7389-cc47-4e97-ab36-132cf792037f",
   "metadata": {},
   "outputs": [],
   "source": [
    "# Constructing the file system tree\n",
    "solution_root_dir.add_child(documents)\n",
    "solution_root_dir.add_child(pictures)\n",
    "solution_root_dir.add_child(music)\n",
    "documents.add_child(file1)\n",
    "documents.add_child(file2)\n",
    "pictures.add_child(photo1)\n",
    "music.add_child(song1)\n"
   ]
  },
  {
   "cell_type": "code",
   "execution_count": 32,
   "id": "8973ac15-c852-4ad0-865a-1f55de63251f",
   "metadata": {},
   "outputs": [
    {
     "name": "stdout",
     "output_type": "stream",
     "text": [
      "\n",
      "Solution - Preorder Traversal of File System:\n",
      "root\n",
      "Documents\n",
      "file1.txt\n",
      "file2.txt\n",
      "Pictures\n",
      "photo1.jpg\n",
      "Music\n",
      "song1.mp3\n",
      "\n",
      "Solution - Postorder Traversal (Deletion Order):\n",
      "Deleting: file1.txt\n",
      "Deleting: file2.txt\n",
      "Deleting: Documents\n",
      "Deleting: photo1.jpg\n",
      "Deleting: Pictures\n",
      "Deleting: song1.mp3\n",
      "Deleting: Music\n",
      "Deleting: root\n"
     ]
    }
   ],
   "source": [
    "\n",
    "# Performing Preorder Traversal on File System\n",
    "print(\"\\nSolution - Preorder Traversal of File System:\")\n",
    "preorder_filesystem(solution_root_dir)\n",
    "\n",
    "# Performing Postorder Traversal on File System\n",
    "print(\"\\nSolution - Postorder Traversal (Deletion Order):\")\n",
    "postorder_filesystem(solution_root_dir)"
   ]
  },
  {
   "cell_type": "code",
   "execution_count": 34,
   "id": "de614975-2ed9-40b4-b86c-90c2787d21ca",
   "metadata": {},
   "outputs": [
    {
     "name": "stdout",
     "output_type": "stream",
     "text": [
      "\n",
      "Class Exercise 2:\n",
      "1. Construct a Binary Search Tree with the following elements: [50, 30, 70, 20, 40, 60, 80]\n",
      "2. Implement a function to find the minimum and maximum values in the BST.\n",
      "3. Implement a function to search for a specific value in the BST and return whether it exists.\n",
      "4. Implement a function to calculate the height of the BST.\n",
      "5. Visualize the BST and explain the results of your search and height calculations.\n"
     ]
    }
   ],
   "source": [
    "print(\"\\nClass Exercise 2:\")\n",
    "print(\"1. Construct a Binary Search Tree with the following elements: [50, 30, 70, 20, 40, 60, 80]\")\n",
    "print(\"2. Implement a function to find the minimum and maximum values in the BST.\")\n",
    "print(\"3. Implement a function to search for a specific value in the BST and return whether it exists.\")\n",
    "print(\"4. Implement a function to calculate the height of the BST.\")\n",
    "print(\"5. Visualize the BST and explain the results of your search and height calculations.\")"
   ]
  },
  {
   "cell_type": "code",
   "execution_count": null,
   "id": "bdfffcc9-47c7-4ee2-af19-46ee797cfe71",
   "metadata": {},
   "outputs": [],
   "source": []
  }
 ],
 "metadata": {
  "kernelspec": {
   "display_name": "Python [conda env:base] *",
   "language": "python",
   "name": "conda-base-py"
  },
  "language_info": {
   "codemirror_mode": {
    "name": "ipython",
    "version": 3
   },
   "file_extension": ".py",
   "mimetype": "text/x-python",
   "name": "python",
   "nbconvert_exporter": "python",
   "pygments_lexer": "ipython3",
   "version": "3.12.7"
  }
 },
 "nbformat": 4,
 "nbformat_minor": 5
}
