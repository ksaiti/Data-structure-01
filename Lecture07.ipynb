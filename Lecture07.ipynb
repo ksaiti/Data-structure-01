{
 "cells": [
  {
   "cell_type": "markdown",
   "id": "49663859-f1af-4cb2-adda-3c9745377e49",
   "metadata": {},
   "source": [
    "# Python environment\n",
    "# Variables and expressions"
   ]
  },
  {
   "cell_type": "code",
   "execution_count": 1,
   "id": "8bb7657f-0bbe-46f1-b82d-ba4bf88fffa5",
   "metadata": {},
   "outputs": [],
   "source": [
    "#variable a\n",
    "a=[2,4,6]\n"
   ]
  },
  {
   "cell_type": "code",
   "execution_count": 2,
   "id": "8586a415-ccf8-4b00-9f51-375f08e3902d",
   "metadata": {},
   "outputs": [],
   "source": [
    "b=a"
   ]
  },
  {
   "cell_type": "code",
   "execution_count": 3,
   "id": "d6cf8c37-86ef-494e-9833-da09aafefc7b",
   "metadata": {},
   "outputs": [],
   "source": [
    "a.append(8) # to insert day in the variable"
   ]
  },
  {
   "cell_type": "code",
   "execution_count": 4,
   "id": "1b6d2974-3efc-4765-90e2-a13019f31f57",
   "metadata": {},
   "outputs": [
    {
     "name": "stdout",
     "output_type": "stream",
     "text": [
      "[2, 4, 6, 8]\n"
     ]
    }
   ],
   "source": [
    "print(b)"
   ]
  },
  {
   "cell_type": "markdown",
   "id": "10cca208-da45-4119-b121-7362dde32a6e",
   "metadata": {},
   "source": [
    "# Note: Python is a dynamically typed language (variables can be bound to different values and types during program execution)"
   ]
  },
  {
   "cell_type": "code",
   "execution_count": 6,
   "id": "217c4605-38e1-4f27-afcf-2d74c9c6d923",
   "metadata": {},
   "outputs": [
    {
     "data": {
      "text/plain": [
       "int"
      ]
     },
     "execution_count": 6,
     "metadata": {},
     "output_type": "execute_result"
    }
   ],
   "source": [
    "a=1\n",
    "type(a)"
   ]
  },
  {
   "cell_type": "code",
   "execution_count": 8,
   "id": "033ac521-8350-4564-8d57-77625b4f907b",
   "metadata": {},
   "outputs": [
    {
     "data": {
      "text/plain": [
       "float"
      ]
     },
     "execution_count": 8,
     "metadata": {},
     "output_type": "execute_result"
    }
   ],
   "source": [
    "a=a+0.1 #a=1.1\n",
    "type(a) #function type returns the data type of the variable"
   ]
  },
  {
   "cell_type": "markdown",
   "id": "45c21434-6317-4cc7-adf1-ad5f71e901a7",
   "metadata": {},
   "source": [
    "# Python data types\n",
    "1. object\n",
    "3. boolean\n",
    "4. integers\n",
    "5. float"
   ]
  },
  {
   "cell_type": "markdown",
   "id": "fd136ea9-7273-46a2-824a-8e2ba5773d08",
   "metadata": {},
   "source": [
    "# Strings\n",
    "Strings are immutable sequence objects"
   ]
  },
  {
   "cell_type": "code",
   "execution_count": 10,
   "id": "d7a60eb5-9447-4976-8ed4-d1f1b8724e56",
   "metadata": {},
   "outputs": [
    {
     "data": {
      "text/plain": [
       "'e'"
      ]
     },
     "execution_count": 10,
     "metadata": {},
     "output_type": "execute_result"
    }
   ],
   "source": [
    "greet = 'hello world'\n",
    "greet[1] \n",
    "#type(greet)"
   ]
  },
  {
   "cell_type": "code",
   "execution_count": 11,
   "id": "178737e1-f376-482f-bf14-2ea113f2fea9",
   "metadata": {},
   "outputs": [
    {
     "data": {
      "text/plain": [
       "'hello wo'"
      ]
     },
     "execution_count": 11,
     "metadata": {},
     "output_type": "execute_result"
    }
   ],
   "source": [
    "greet[0:8] #print all from 0 to 8"
   ]
  },
  {
   "cell_type": "code",
   "execution_count": 12,
   "id": "73614e39-3f23-4128-8146-25f215e3064f",
   "metadata": {},
   "outputs": [
    {
     "data": {
      "text/plain": [
       "'hlow'"
      ]
     },
     "execution_count": 12,
     "metadata": {},
     "output_type": "execute_result"
    }
   ],
   "source": [
    "greet[0:8:2] #print all from 0 to 8 but with a step=2, print every two elements, positions"
   ]
  },
  {
   "cell_type": "code",
   "execution_count": 13,
   "id": "5a8bd202-9f27-4b4d-9c88-565cb7a46547",
   "metadata": {},
   "outputs": [
    {
     "data": {
      "text/plain": [
       "'hlowrd'"
      ]
     },
     "execution_count": 13,
     "metadata": {},
     "output_type": "execute_result"
    }
   ],
   "source": [
    "greet[0::2]"
   ]
  },
  {
   "cell_type": "code",
   "execution_count": 14,
   "id": "47a3225b-2072-4902-9071-f0d5f7cac8db",
   "metadata": {},
   "outputs": [
    {
     "data": {
      "text/plain": [
       "'l'"
      ]
     },
     "execution_count": 14,
     "metadata": {},
     "output_type": "execute_result"
    }
   ],
   "source": [
    "greet[1+2]"
   ]
  },
  {
   "cell_type": "code",
   "execution_count": 15,
   "id": "07d55ea7-0298-4a8e-97f9-acd6170e61b2",
   "metadata": {},
   "outputs": [
    {
     "data": {
      "text/plain": [
       "'d'"
      ]
     },
     "execution_count": 15,
     "metadata": {},
     "output_type": "execute_result"
    }
   ],
   "source": [
    "greet[len(greet)-1] #len is the function that calculates the string length)\n"
   ]
  },
  {
   "cell_type": "code",
   "execution_count": 16,
   "id": "7ec548a1-373a-4fd9-bda8-6e613f123563",
   "metadata": {},
   "outputs": [
    {
     "data": {
      "text/plain": [
       "11"
      ]
     },
     "execution_count": 16,
     "metadata": {},
     "output_type": "execute_result"
    }
   ],
   "source": [
    "len(greet) #function "
   ]
  },
  {
   "cell_type": "code",
   "execution_count": 18,
   "id": "46b65938-9a33-4576-a34d-b3f7eeb4f5f6",
   "metadata": {},
   "outputs": [
    {
     "name": "stdout",
     "output_type": "stream",
     "text": [
      "(0, 'h')\n",
      "(1, 'e')\n",
      "(2, 'l')\n",
      "(3, 'l')\n",
      "(4, 'o')\n"
     ]
    }
   ],
   "source": [
    "# print all elements from the strings\n",
    "# for loop\n",
    "for i in enumerate(greet[0:5]): print(i)\n",
    "\n"
   ]
  },
  {
   "cell_type": "code",
   "execution_count": 19,
   "id": "4cc42b93-204f-45a9-bb99-0d62a7d4796b",
   "metadata": {},
   "outputs": [
    {
     "name": "stdout",
     "output_type": "stream",
     "text": [
      "(0, 'h')\n",
      "(1, 'e')\n",
      "(2, 'l')\n",
      "(3, 'l')\n",
      "(4, 'o')\n",
      "(5, ' ')\n",
      "(6, 'w')\n",
      "(7, 'o')\n",
      "(8, 'r')\n",
      "(9, 'l')\n",
      "(10, 'd')\n"
     ]
    }
   ],
   "source": [
    "# print all elements from the strings\n",
    "# for loop\n",
    "for i in enumerate(greet[0:]): print(i)"
   ]
  },
  {
   "cell_type": "code",
   "execution_count": 21,
   "id": "802ca8f9-151f-4c13-aea8-49655fa35936",
   "metadata": {},
   "outputs": [
    {
     "name": "stdout",
     "output_type": "stream",
     "text": [
      "(0, 'l')\n",
      "(1, 'l')\n",
      "(2, 'o')\n",
      "(3, ' ')\n",
      "(4, 'w')\n",
      "(5, 'o')\n",
      "(6, 'r')\n",
      "(7, 'l')\n",
      "(8, 'd')\n"
     ]
    }
   ],
   "source": [
    "# print all elements from the strings\n",
    "# for loop\n",
    "for i in enumerate(greet[2:]): print(i)"
   ]
  },
  {
   "cell_type": "code",
   "execution_count": 24,
   "id": "0cd0d94a-cd8f-4647-95b7-a65832858471",
   "metadata": {},
   "outputs": [
    {
     "data": {
      "text/plain": [
       "'hello wonderful world'"
      ]
     },
     "execution_count": 24,
     "metadata": {},
     "output_type": "execute_result"
    }
   ],
   "source": [
    "# print \"hello wonderful world\" without changing the greet variable\n",
    "greet[:5] + ' wonderful' + greet[5:]\n"
   ]
  },
  {
   "cell_type": "code",
   "execution_count": 25,
   "id": "c29a61ac-5ec3-49ae-9055-19596bfbfab7",
   "metadata": {},
   "outputs": [
    {
     "data": {
      "text/plain": [
       "'hello wonderful world'"
      ]
     },
     "execution_count": 25,
     "metadata": {},
     "output_type": "execute_result"
    }
   ],
   "source": [
    "greet[:6] + 'wonderful' + greet[5:]"
   ]
  },
  {
   "cell_type": "markdown",
   "id": "12903ddc-25c3-4ca6-90b5-3d199b18e5af",
   "metadata": {},
   "source": [
    "# Lists\n",
    "\n",
    "Lists are probably the most used built-in data structures in Python\n",
    "\n"
   ]
  },
  {
   "cell_type": "code",
   "execution_count": 26,
   "id": "c038916b-aa53-4bcb-8df9-1edf45e23485",
   "metadata": {},
   "outputs": [],
   "source": [
    "x=1;y=2;z=3\n",
    "list1 = [x,y,z]"
   ]
  },
  {
   "cell_type": "code",
   "execution_count": 27,
   "id": "d393122c-c550-4b52-b953-791a363b0a18",
   "metadata": {},
   "outputs": [],
   "source": [
    "list2 = list1"
   ]
  },
  {
   "cell_type": "code",
   "execution_count": 28,
   "id": "742a40ee-d5b2-4acd-b99e-71cc5ffae897",
   "metadata": {},
   "outputs": [],
   "source": [
    "list2[1] = 4 # replace the second element from List1 (y=2) with y=4 "
   ]
  },
  {
   "cell_type": "code",
   "execution_count": 30,
   "id": "ba210c0a-8326-481b-977a-1aaac5b0c307",
   "metadata": {},
   "outputs": [
    {
     "data": {
      "text/plain": [
       "[1, 4, 3]"
      ]
     },
     "execution_count": 30,
     "metadata": {},
     "output_type": "execute_result"
    }
   ],
   "source": [
    "list1"
   ]
  },
  {
   "cell_type": "code",
   "execution_count": 31,
   "id": "bcc9ab25-2075-4b3f-a702-73f441328a66",
   "metadata": {},
   "outputs": [
    {
     "data": {
      "text/plain": [
       "[1, 4, 3]"
      ]
     },
     "execution_count": 31,
     "metadata": {},
     "output_type": "execute_result"
    }
   ],
   "source": [
    "list2"
   ]
  },
  {
   "cell_type": "markdown",
   "id": "2aaf9ead-4b26-4e6d-b658-9d61f56773e9",
   "metadata": {},
   "source": [
    "# nested structures (list inside list)"
   ]
  },
  {
   "cell_type": "code",
   "execution_count": 35,
   "id": "f1616580-5ff6-4476-a21f-a6b2794f4c89",
   "metadata": {},
   "outputs": [
    {
     "name": "stdout",
     "output_type": "stream",
     "text": [
      "Product: rice Price: 2.40 Quantity: 8\n",
      "Product: flour Price: 1.90 Quantity: 5\n",
      "Product: Corn Price: 4.70 Quantity: 6\n"
     ]
    }
   ],
   "source": [
    "items = [[\"rice\", 2.4, 8], [\"flour\", 1.9, 5], [\"Corn\", 4.7, 6]] # items is the variable\n",
    "for item in items:\n",
    "    print(\"Product: %s Price: %.2f Quantity: %i\" % (item[0], item[1], item[2]))\n"
   ]
  },
  {
   "cell_type": "code",
   "execution_count": 41,
   "id": "0be4f4d8-7c19-4a3b-8ded-ffe52a2f6a41",
   "metadata": {},
   "outputs": [],
   "source": [
    "# items = [[\"rice\", 2.4, 8], [\"flour\", 1.9, 5], [\"Corn\", 4.7, 6]] # items is the variable \n",
    "# add Suggar, Price=3.2, Quantity = 10\n",
    "items = [[\"rice\", 2.4, 8], [\"flour\", 1.9, 5], [\"Corn\", 4.7, 6], [\"Sugar\", 3.2, 10]]\n"
   ]
  },
  {
   "cell_type": "code",
   "execution_count": 43,
   "id": "8906a3ee-a3b1-465f-a031-b677ff2c1a87",
   "metadata": {},
   "outputs": [
    {
     "name": "stdout",
     "output_type": "stream",
     "text": [
      "Product: rice Price: 2.40 Quantity: 8\n",
      "Product: flour Price: 1.90 Quantity: 5\n",
      "Product: Corn Price: 4.70 Quantity: 6\n",
      "Product: Sugar Price: 3.20 Quantity: 10\n"
     ]
    }
   ],
   "source": [
    "for item in items:\n",
    "    print(\"Product: %s Price: %.2f Quantity: %i\" % (item[0], item[1], item[2]))"
   ]
  },
  {
   "cell_type": "code",
   "execution_count": 44,
   "id": "10da3d48-a653-42ce-8d2d-54a257f627c1",
   "metadata": {},
   "outputs": [],
   "source": [
    "# do the above with append\n",
    "items.append([\"Sugar\", 3.2, 10])"
   ]
  },
  {
   "cell_type": "code",
   "execution_count": 45,
   "id": "62af1db1-27f0-4944-93d7-53e6ff9248c7",
   "metadata": {},
   "outputs": [
    {
     "name": "stdout",
     "output_type": "stream",
     "text": [
      "[['rice', 2.4, 8], ['flour', 1.9, 5], ['Corn', 4.7, 6], ['Sugar', 3.2, 10], ['Sugar', 3.2, 10]]\n"
     ]
    }
   ],
   "source": [
    "print(items)"
   ]
  },
  {
   "cell_type": "code",
   "execution_count": 46,
   "id": "6a2a5faa-651e-4fe5-88d3-08bfc7cc9165",
   "metadata": {},
   "outputs": [
    {
     "name": "stdout",
     "output_type": "stream",
     "text": [
      "Product: rice Price: 2.40 Quantity: 8\n",
      "Product: flour Price: 1.90 Quantity: 5\n",
      "Product: Corn Price: 4.70 Quantity: 6\n",
      "Product: Sugar Price: 3.20 Quantity: 10\n",
      "Product: Sugar Price: 3.20 Quantity: 10\n"
     ]
    }
   ],
   "source": [
    "for item in items:\n",
    "    print(\"Product: %s Price: %.2f Quantity: %i\" % (item[0], item[1], item[2]))"
   ]
  },
  {
   "cell_type": "code",
   "execution_count": 48,
   "id": "6adde6e6-86e0-419b-90b9-db0b5883ba2e",
   "metadata": {},
   "outputs": [
    {
     "name": "stdout",
     "output_type": "stream",
     "text": [
      "Product: rice Price: 2.40 Quantity: 8 Quality: 3\n",
      "Product: flour Price: 1.90 Quantity: 5 Quality: 4\n",
      "Product: Corn Price: 4.70 Quantity: 6 Quality: 5\n"
     ]
    }
   ],
   "source": [
    "# what if we want to add extra info, like the Quality\n",
    "items = [[\"rice\", 2.4, 8, 3], [\"flour\", 1.9, 5, 4], [\"Corn\", 4.7, 6, 5]] # items is the variable\n",
    "# how do I add an extra item 'Quality'\n",
    "for item in items:\n",
    "    print(\"Product: %s Price: %.2f Quantity: %i Quality: %i\" % (item[0], item[1], item[2], item[3]))\n"
   ]
  },
  {
   "cell_type": "markdown",
   "id": "d368b476-13c5-4894-8cfe-9e75fa122950",
   "metadata": {},
   "source": [
    "# Functions as first class objects\n",
    "functions and classes are what are known as first class objects\n",
    "\n",
    "## example, define a simple function"
   ]
  },
  {
   "cell_type": "code",
   "execution_count": 49,
   "id": "6fddb534-f2c8-4bf7-b731-c1a681ce0020",
   "metadata": {},
   "outputs": [
    {
     "ename": "SyntaxError",
     "evalue": "incomplete input (665211899.py, line 1)",
     "output_type": "error",
     "traceback": [
      "\u001b[1;36m  Cell \u001b[1;32mIn[49], line 1\u001b[1;36m\u001b[0m\n\u001b[1;33m    def greeting(language):\u001b[0m\n\u001b[1;37m                           ^\u001b[0m\n\u001b[1;31mSyntaxError\u001b[0m\u001b[1;31m:\u001b[0m incomplete input\n"
     ]
    }
   ],
   "source": [
    "def greeting(language):   # name of the function (e.g. greeting), arguments as inputs (e.g. language)\n",
    "if language == 'eng':\n",
    "    return 'Hello world'\n",
    "   if language == 'fr'\n",
    "       return 'Bonjour le monde'\n",
    "   else: \n",
    "       return 'language not supported'\n",
    "    "
   ]
  },
  {
   "cell_type": "code",
   "execution_count": null,
   "id": "bfe555a4-2584-47ae-b8b2-e19fc2d78503",
   "metadata": {},
   "outputs": [],
   "source": [
    "# function to be included inside other objects such as lists\n",
    "List = [greeting('eng'), greeting('fr'), greeting('ger')]"
   ]
  },
  {
   "cell_type": "code",
   "execution_count": 50,
   "id": "2325c58c-cb1f-415b-b82f-46c0d3dea2f0",
   "metadata": {},
   "outputs": [
    {
     "ename": "SyntaxError",
     "evalue": "incomplete input (2628965463.py, line 2)",
     "output_type": "error",
     "traceback": [
      "\u001b[1;36m  Cell \u001b[1;32mIn[50], line 2\u001b[1;36m\u001b[0m\n\u001b[1;33m    def callf(f):\u001b[0m\n\u001b[1;37m                 ^\u001b[0m\n\u001b[1;31mSyntaxError\u001b[0m\u001b[1;31m:\u001b[0m incomplete input\n"
     ]
    }
   ],
   "source": [
    "# functions can be used as arguments for other functions\n",
    "def callf(f):\n",
    "    lang = 'eng'\n",
    "    return (f(lang))\n",
    "\n"
   ]
  },
  {
   "cell_type": "markdown",
   "id": "bd24b0e9-82c0-4940-90af-8f2330574496",
   "metadata": {},
   "source": [
    "# Note: Functions that take other functions as arguments are called higher order functions"
   ]
  },
  {
   "cell_type": "code",
   "execution_count": 51,
   "id": "94b6821f-09ed-4d83-8416-6807e0eca1fc",
   "metadata": {},
   "outputs": [
    {
     "data": {
      "text/plain": [
       "[1, 8, 27, 64]"
      ]
     },
     "execution_count": 51,
     "metadata": {},
     "output_type": "execute_result"
    }
   ],
   "source": [
    "# example\n",
    "list1 = [1,2,3,4]\n",
    "list(map(lambda x: x**3, list1))  # power 3 "
   ]
  },
  {
   "cell_type": "code",
   "execution_count": 52,
   "id": "2cdca2e7-f88e-4f7b-b876-a67aea519776",
   "metadata": {},
   "outputs": [
    {
     "data": {
      "text/plain": [
       "[1, 16, 81, 256]"
      ]
     },
     "execution_count": 52,
     "metadata": {},
     "output_type": "execute_result"
    }
   ],
   "source": [
    "# example\n",
    "list1 = [1,2,3,4]\n",
    "list(map(lambda x: x**4, list1))  # power 4"
   ]
  },
  {
   "cell_type": "code",
   "execution_count": 54,
   "id": "707745f6-fc93-4a03-966a-367b1f258cf3",
   "metadata": {},
   "outputs": [
    {
     "data": {
      "text/plain": [
       "[1, 2]"
      ]
     },
     "execution_count": 54,
     "metadata": {},
     "output_type": "execute_result"
    }
   ],
   "source": [
    "list1 = [1,2,3,4]\n",
    "list(filter((lambda x: x<3), list1))"
   ]
  },
  {
   "cell_type": "code",
   "execution_count": 55,
   "id": "8af236d7-0aad-43ea-aeb5-3ba9b6d07053",
   "metadata": {},
   "outputs": [
    {
     "data": {
      "text/plain": [
       "[1, 2]"
      ]
     },
     "execution_count": 55,
     "metadata": {},
     "output_type": "execute_result"
    }
   ],
   "source": [
    "list1 = [1,2,3,4]\n",
    "list(map(lambda x: x**4, list1))  # power 4\n",
    "list(filter((lambda x: x<3), list1))"
   ]
  },
  {
   "cell_type": "code",
   "execution_count": 56,
   "id": "a2e1f835-ab9f-4aca-b458-0cc603541fac",
   "metadata": {},
   "outputs": [
    {
     "data": {
      "text/plain": [
       "[4]"
      ]
     },
     "execution_count": 56,
     "metadata": {},
     "output_type": "execute_result"
    }
   ],
   "source": [
    "list1 = [1,2,3,4]\n",
    "list(map(lambda x: x**4, list1))  # power 4\n",
    "list(filter((lambda x: x>3), list1))"
   ]
  },
  {
   "cell_type": "code",
   "execution_count": 57,
   "id": "d1f7596e-65c0-4d3f-bee2-642d65579a29",
   "metadata": {},
   "outputs": [
    {
     "data": {
      "text/plain": [
       "['in', 'The', 'word', 'this', 'longest', 'sentence']"
      ]
     },
     "execution_count": 57,
     "metadata": {},
     "output_type": "execute_result"
    }
   ],
   "source": [
    "words = str.split('The longest word in this sentence')\n",
    "sorted(words, key=len)\n"
   ]
  },
  {
   "cell_type": "code",
   "execution_count": 4,
   "id": "d88773d7-f199-41cd-bbc8-6071f4e7f568",
   "metadata": {},
   "outputs": [
    {
     "data": {
      "text/plain": [
       "['A', 'a', 'b', 'C', 'c']"
      ]
     },
     "execution_count": 4,
     "metadata": {},
     "output_type": "execute_result"
    }
   ],
   "source": [
    "sl = ['A', 'b', 'a',  'C', 'c']\n",
    "sorted(sl, key=str.lower)"
   ]
  },
  {
   "cell_type": "markdown",
   "id": "ccea2ef3-9062-4ce3-8cde-be139c51a1aa",
   "metadata": {},
   "source": [
    "# Tuples\n",
    "Tuples are immutable sequences of arbitary objects.\n",
    "Tuples are hashable, which means we can sort lists of them and they can be used as keys to dictionaries"
   ]
  },
  {
   "cell_type": "code",
   "execution_count": 5,
   "id": "d7ab0a7b-3597-4f12-812a-91a45ae496b3",
   "metadata": {},
   "outputs": [
    {
     "data": {
      "text/plain": [
       "('s', 'e', 'q', 'u', 'e', 'n', 'c', 'e')"
      ]
     },
     "execution_count": 5,
     "metadata": {},
     "output_type": "execute_result"
    }
   ],
   "source": [
    "tuple('sequence') # split the word to letters"
   ]
  },
  {
   "cell_type": "code",
   "execution_count": 6,
   "id": "18eef074-e782-4d3a-9458-9b3bc1e04188",
   "metadata": {},
   "outputs": [],
   "source": [
    "l = ['one','two']\n",
    "x,y = l #  x will be one and y will be two"
   ]
  },
  {
   "cell_type": "code",
   "execution_count": 7,
   "id": "37d8e9b4-6d1c-46cb-b1a0-82eeef6bb218",
   "metadata": {},
   "outputs": [],
   "source": [
    "x,y = y, x # x will be two and y will be one"
   ]
  },
  {
   "cell_type": "code",
   "execution_count": 11,
   "id": "c30c392c-31ec-4d72-802a-e1be8a5e5135",
   "metadata": {},
   "outputs": [
    {
     "data": {
      "text/plain": [
       "{'one': 1, 'two': 2, 'three': 3, 'four': 4, 'five': 5, 'six': 6}"
      ]
     },
     "execution_count": 11,
     "metadata": {},
     "output_type": "execute_result"
    }
   ],
   "source": [
    "# Dictionary example (the example format of a dictionary)\n",
    "d = {'one': 1, 'two': 2, 'three': 3} # create our first dictionary, every seperate by commas information inside the dictionary is called key\n",
    "# how to add a key == item\n",
    "d['four'] = 4\n",
    "d.update({'five':5, 'six':6})\n",
    "d # just call the name of the dictionary and run the cell --> print the dictionary"
   ]
  },
  {
   "cell_type": "code",
   "execution_count": 12,
   "id": "de2fc06e-d9d0-4204-a202-d06aab38ed7d",
   "metadata": {},
   "outputs": [
    {
     "data": {
      "text/plain": [
       "{'one': 1, 'two': 2, 'three': 3, 'four': 4, 'five': 5, 'six': 6}"
      ]
     },
     "execution_count": 12,
     "metadata": {},
     "output_type": "execute_result"
    }
   ],
   "source": [
    "d"
   ]
  },
  {
   "cell_type": "code",
   "execution_count": 13,
   "id": "625e40e5-6382-4bcc-a8a2-31a09ed8554c",
   "metadata": {},
   "outputs": [
    {
     "data": {
      "text/plain": [
       "True"
      ]
     },
     "execution_count": 13,
     "metadata": {},
     "output_type": "execute_result"
    }
   ],
   "source": [
    "'five' in d # easiest way to check if an info is included in the dictionary"
   ]
  },
  {
   "cell_type": "code",
   "execution_count": 14,
   "id": "5b53e97b-518e-4003-894b-125551b6729a",
   "metadata": {},
   "outputs": [
    {
     "data": {
      "text/plain": [
       "False"
      ]
     },
     "execution_count": 14,
     "metadata": {},
     "output_type": "execute_result"
    }
   ],
   "source": [
    "'seven' in d # easiest way to check if an info is included in the dictionary"
   ]
  },
  {
   "cell_type": "code",
   "execution_count": 15,
   "id": "c461d456-87ca-41ec-b829-626b15a12cdd",
   "metadata": {},
   "outputs": [
    {
     "data": {
      "text/plain": [
       "['five', 'four', 'one', 'six', 'three', 'two']"
      ]
     },
     "execution_count": 15,
     "metadata": {},
     "output_type": "execute_result"
    }
   ],
   "source": [
    "# sorting dictionaries\n",
    "sorted(list(d)) # sorts keys alphabetically"
   ]
  },
  {
   "cell_type": "code",
   "execution_count": 16,
   "id": "feb6e05e-c408-4c43-9013-6e48a0ae2772",
   "metadata": {},
   "outputs": [
    {
     "data": {
      "text/plain": [
       "[1, 2, 3, 4, 5, 6]"
      ]
     },
     "execution_count": 16,
     "metadata": {},
     "output_type": "execute_result"
    }
   ],
   "source": [
    "# sorting dictionaries\n",
    "sorted(list(d.values())) # sort values # a function inside another function"
   ]
  },
  {
   "cell_type": "code",
   "execution_count": 17,
   "id": "e2713271-156f-4f2d-ade4-56ce13df9e4b",
   "metadata": {},
   "outputs": [
    {
     "data": {
      "text/plain": [
       "[5, 4, 1, 6, 3, 2]"
      ]
     },
     "execution_count": 17,
     "metadata": {},
     "output_type": "execute_result"
    }
   ],
   "source": [
    "[value for (key,value) in sorted(d.items())]"
   ]
  },
  {
   "cell_type": "code",
   "execution_count": null,
   "id": "ae00422e-cd33-4785-944c-1e00ca176320",
   "metadata": {},
   "outputs": [],
   "source": []
  }
 ],
 "metadata": {
  "kernelspec": {
   "display_name": "Python 3 (ipykernel)",
   "language": "python",
   "name": "python3"
  },
  "language_info": {
   "codemirror_mode": {
    "name": "ipython",
    "version": 3
   },
   "file_extension": ".py",
   "mimetype": "text/x-python",
   "name": "python",
   "nbconvert_exporter": "python",
   "pygments_lexer": "ipython3",
   "version": "3.12.7"
  }
 },
 "nbformat": 4,
 "nbformat_minor": 5
}
