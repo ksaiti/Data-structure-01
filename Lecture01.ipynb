{
 "cells": [
  {
   "cell_type": "markdown",
   "id": "035371c6-b27d-416d-bf85-d753ce9fbbc4",
   "metadata": {},
   "source": [
    "1. Course Overview\n",
    "What is this course about?\n",
    "Introduction to fundamental data structures and algorithms.\n",
    "How they impact software efficiency and problem-solving.\n",
    "\n",
    "Why is this course important?\n",
    "Efficiency matters: Understanding time and space complexity.\n",
    "Real-world applications in software engineering, AI, and data science.\n",
    "\n",
    "Course Structure\n",
    "Theory and practical implementation (Python/Java/C++).\n",
    "Assignments, quizzes, and projects."
   ]
  },
  {
   "cell_type": "markdown",
   "id": "bd6e99f5-dd80-4361-8b06-f50e8833d601",
   "metadata": {},
   "source": [
    "2. What are Data Structures and Algorithms?\n",
    "Data Structures: Ways of organizing and storing data (Arrays, Linked Lists, Trees, etc.).\n",
    "Algorithms: Step-by-step methods to solve problems efficiently.\n",
    "Relationship between data structures and algorithms."
   ]
  },
  {
   "cell_type": "code",
   "execution_count": null,
   "id": "28cb2b01-8c63-4b02-b872-967195b11e07",
   "metadata": {},
   "outputs": [],
   "source": [
    "3. Key Concepts in Algorithm Analysis\n",
    "Time Complexity (Big O Notation)\n",
    "Understanding O(1), O(n), O(log n), O(n²).\n",
    "Space Complexity\n",
    "Memory usage considerations.\n",
    "Example: Comparing sorting algorithms\n",
    "Bubble Sort vs. Merge Sort efficiency."
   ]
  },
  {
   "cell_type": "markdown",
   "id": "f3a53a7c-7edd-4e84-895c-17c1565fc083",
   "metadata": {},
   "source": [
    "Big O Notation: O(1), O(n), O(log n), O(n²)\n"
   ]
  },
  {
   "cell_type": "markdown",
   "id": "489f85ad-e063-49e7-a22a-ea41728177ce",
   "metadata": {},
   "source": [
    "1. O(1) - Constant Time Complexity\n",
    "Definition: The execution time remains constant regardless of the input size.\n",
    "Example: Accessing an element in an array by index.\n",
    "\n",
    "def get_first_element(arr):\n",
    "    return arr[0]  # Always takes the same time, no matter how big the array is\n",
    "\n",
    "arr = [10, 20, 30, 40]\n",
    "print(get_first_element(arr))  # Output: 10\n",
    "\n",
    "Why O(1)?\n",
    "\n",
    "No loops or recursion.\n",
    "The function performs a single operation, independent of n (array size).\n",
    "\n"
   ]
  },
  {
   "cell_type": "code",
   "execution_count": 11,
   "id": "7edac87e-b0d4-4b9b-8922-ba1b344d06ad",
   "metadata": {},
   "outputs": [
    {
     "name": "stdout",
     "output_type": "stream",
     "text": [
      "10\n"
     ]
    }
   ],
   "source": [
    "#run the above example\n",
    "def get_first_element(arr):\n",
    "    return arr[0] \n",
    "\n",
    "arr = [10, 20, 30, 40]\n",
    "print(get_first_element(arr))\n",
    "\n",
    "#format another array and use the above function, print the result \n"
   ]
  },
  {
   "cell_type": "markdown",
   "id": "5667a0ef-a354-4f72-982e-ba96c107da3c",
   "metadata": {},
   "source": [
    "O(n) - Linear Time Complexity\n",
    "Definition: The execution time grows linearly with the input size.\n",
    "Example: Printing all elements in an array.\n",
    "\n",
    "def print_elements(arr):\n",
    "    for elem in arr:\n",
    "        print(elem)\n",
    "\n",
    "arr = [10, 20, 30, 40]\n",
    "print_elements(arr)\n",
    "\n",
    "Why O(n)?\n",
    "\n",
    "The function iterates through all n elements.\n",
    "If n doubles, the time taken doubles."
   ]
  },
  {
   "cell_type": "code",
   "execution_count": null,
   "id": "51bfab45-48cf-4ec5-a1fe-2578152afaac",
   "metadata": {},
   "outputs": [],
   "source": [
    "# run the above example"
   ]
  },
  {
   "cell_type": "markdown",
   "id": "83a344b3-82b1-4686-8f1a-f8cf868aac86",
   "metadata": {},
   "source": [
    "O(log n) - Logarithmic Time Complexity\n",
    "Definition: The execution time grows logarithmically as the input size increases.\n",
    "Example: Binary Search (dividing the array in half at each step).\n",
    "\n",
    "                        \n",
    "def binary_search(arr, target):\n",
    "    left, right = 0, len(arr) - 1\n",
    "    while left <= right:\n",
    "        mid = (left + right) // 2\n",
    "        if arr[mid] == target:\n",
    "            return mid  # Found\n",
    "        elif arr[mid] < target:\n",
    "            left = mid + 1\n",
    "        else:\n",
    "            right = mid - 1\n",
    "    return -1  # Not found\n",
    "\n",
    "arr = [10, 20, 30, 40, 50, 60, 70]\n",
    "print(binary_search(arr, 40))  # Output: 3 (index of 40)\n",
    "\n",
    "Why O(log n)?\n",
    "\n",
    "The input size is divided by 2 in each step.\n",
    "If n = 1000, it only takes about log₂(1000) ≈ 10 steps.\n",
    "\n",
    "\n",
    "                        "
   ]
  },
  {
   "cell_type": "code",
   "execution_count": null,
   "id": "599fd8e4-507a-42fc-8aa9-5501f42f2087",
   "metadata": {},
   "outputs": [],
   "source": [
    "# run the above example"
   ]
  },
  {
   "cell_type": "markdown",
   "id": "dfdcf562-d850-4558-acbc-4971bd688f11",
   "metadata": {},
   "source": [
    "O(n²) - Quadratic Time Complexity\n",
    "Definition: The execution time grows quadratically as the input size increases.\n",
    "Example: Bubble Sort (nested loops).\n",
    "\n",
    "def bubble_sort(arr):\n",
    "    n = len(arr)\n",
    "    for i in range(n):\n",
    "        for j in range(0, n-i-1):\n",
    "            if arr[j] > arr[j+1]:\n",
    "                arr[j], arr[j+1] = arr[j+1], arr[j]  # Swap elements\n",
    "    return arr\n",
    "\n",
    "arr = [64, 34, 25, 12, 22, 11, 90]\n",
    "print(bubble_sort(arr))\n",
    "\n",
    "Why O(n²)?\n",
    "\n",
    "There are two nested loops, each running n times.\n",
    "If n doubles, the time taken increases quadratically (2² = 4 times longer).\n"
   ]
  },
  {
   "cell_type": "code",
   "execution_count": null,
   "id": "88ea7d90-3991-4a46-8cd6-77ef6cad179f",
   "metadata": {},
   "outputs": [],
   "source": [
    "#run the above example"
   ]
  },
  {
   "cell_type": "markdown",
   "id": "6f49ea1d-864d-4079-a800-56424c2f2934",
   "metadata": {},
   "source": [
    "Complexity\tMeaning\tExample\n",
    "O(1)\tConstant time\tAccessing an element in an array\n",
    "O(n)\tLinear time\tPrinting all elements in an array\n",
    "O(log n)\tLogarithmic time\tBinary search (dividing the array in half)\n",
    "O(n²)\tQuadratic time\tBubble sort (nested loops)"
   ]
  },
  {
   "cell_type": "markdown",
   "id": "151423f8-8642-4fee-a4ce-8222741ed900",
   "metadata": {},
   "source": [
    "Imagine n = 16:\n",
    "\n",
    "O(1): 🔹 (1 operation)\n",
    "O(n): 🔹🔹🔹🔹🔹🔹🔹🔹🔹🔹🔹🔹🔹🔹🔹🔹 (16 operations)\n",
    "O(log n): 🔹🔹🔹🔹 (4 operations, since log₂(16) = 4)\n",
    "O(n²): 🔹🔹🔹🔹🔹🔹🔹🔹🔹🔹🔹🔹🔹🔹🔹🔹🔹🔹🔹🔹🔹🔹🔹🔹🔹🔹🔹🔹🔹🔹🔹🔹 (256 operations)"
   ]
  },
  {
   "cell_type": "code",
   "execution_count": null,
   "id": "f20838ee-7357-402a-bdc7-03cb8ecbd43b",
   "metadata": {},
   "outputs": [],
   "source": [
    "# 4. Bubble Sort Implementation\n",
    "def bubble_sort(arr):\n",
    "    n = len(arr)\n",
    "    for i in range(n):\n",
    "        for j in range(0, n-i-1):\n",
    "            if arr[j] > arr[j+1]:\n",
    "                arr[j], arr[j+1] = arr[j+1], arr[j]  # Swap elements\n",
    "    return arr\n",
    "\n",
    "# Example usage\n",
    "bubble_sorted_array = bubble_sort(array.copy())\n",
    "print(\"Bubble sorted array:\", bubble_sorted_array)\n",
    "\n",
    "# 5. Merge Sort Implementation\n",
    "def merge_sort(arr):\n",
    "    if len(arr) > 1:\n",
    "        mid = len(arr) // 2\n",
    "        left_half = arr[:mid]\n",
    "        right_half = arr[mid:]\n",
    "        \n",
    "        merge_sort(left_half)\n",
    "        merge_sort(right_half)\n",
    "        \n",
    "        i = j = k = 0\n",
    "        while i < len(left_half) and j < len(right_half):\n",
    "            if left_half[i] < right_half[j]:\n",
    "                arr[k] = left_half[i]\n",
    "                i += 1\n",
    "            else:\n",
    "                arr[k] = right_half[j]\n",
    "                j += 1\n",
    "            k += 1\n",
    "        \n",
    "        while i < len(left_half):\n",
    "            arr[k] = left_half[i]\n",
    "            i += 1\n",
    "            k += 1\n",
    "        \n",
    "        while j < len(right_half):\n",
    "            arr[k] = right_half[j]\n",
    "            j += 1\n",
    "            k += 1\n",
    "    return arr\n",
    "\n",
    "# Example usage\n",
    "merge_sorted_array = merge_sort(array.copy())\n",
    "print(\"Merge sorted array:\", merge_sorted_array)"
   ]
  },
  {
   "cell_type": "code",
   "execution_count": 5,
   "id": "787ac005-10ca-4597-8941-0c470623c22d",
   "metadata": {},
   "outputs": [
    {
     "name": "stdout",
     "output_type": "stream",
     "text": [
      "Original array: [64, 34, 25, 12, 22, 11, 90]\n",
      "Bubble sorted array: [11, 12, 22, 25, 34, 64, 90]\n",
      "Merge sorted array: [11, 12, 22, 25, 34, 64, 90]\n"
     ]
    }
   ],
   "source": [
    "# Sample array\n",
    "array = [64, 34, 25, 12, 22, 11, 90]\n",
    "\n",
    "# 4. Bubble Sort Implementation\n",
    "def bubble_sort(arr):\n",
    "    n = len(arr)\n",
    "    for i in range(n):\n",
    "        for j in range(0, n-i-1):\n",
    "            if arr[j] > arr[j+1]:\n",
    "                arr[j], arr[j+1] = arr[j+1], arr[j]  # Swap elements\n",
    "    return arr\n",
    "\n",
    "# 5. Merge Sort Implementation\n",
    "def merge_sort(arr):\n",
    "    if len(arr) > 1:\n",
    "        mid = len(arr) // 2\n",
    "        left_half = arr[:mid]\n",
    "        right_half = arr[mid:]\n",
    "        \n",
    "        merge_sort(left_half)\n",
    "        merge_sort(right_half)\n",
    "        \n",
    "        i = j = k = 0\n",
    "        while i < len(left_half) and j < len(right_half):\n",
    "            if left_half[i] < right_half[j]:\n",
    "                arr[k] = left_half[i]\n",
    "                i += 1\n",
    "            else:\n",
    "                arr[k] = right_half[j]\n",
    "                j += 1\n",
    "            k += 1\n",
    "        \n",
    "        while i < len(left_half):\n",
    "            arr[k] = left_half[i]\n",
    "            i += 1\n",
    "            k += 1\n",
    "        \n",
    "        while j < len(right_half):\n",
    "            arr[k] = right_half[j]\n",
    "            j += 1\n",
    "            k += 1\n",
    "    return arr\n",
    "\n",
    "# Apply sorting algorithms\n",
    "bubble_sorted_array = bubble_sort(array.copy())\n",
    "merge_sorted_array = merge_sort(array.copy())\n",
    "\n",
    "# Print results\n",
    "print(\"Original array:\", array)\n",
    "print(\"Bubble sorted array:\", bubble_sorted_array)\n",
    "print(\"Merge sorted array:\", merge_sorted_array)\n"
   ]
  },
  {
   "cell_type": "markdown",
   "id": "4713beef-4cbe-42f7-8e24-563583f31c22",
   "metadata": {},
   "source": [
    "Key Differences:\n",
    "Bubble Sort: A simple algorithm but inefficient for large datasets (O(n²) complexity).\n",
    "Merge Sort: More efficient (O(n log n)) but requires additional memory for recursion."
   ]
  },
  {
   "cell_type": "markdown",
   "id": "cd0bbef1-57bf-42ee-9258-3fae557044d1",
   "metadata": {},
   "source": [
    " First Simple Data Structure: Arrays\n",
    "What is an Array?\n",
    "Basic operations:\n",
    "Insertion, deletion, searching.\n",
    "Example:\n",
    "Find the maximum element in an array."
   ]
  },
  {
   "cell_type": "code",
   "execution_count": 1,
   "id": "a23d4a75-e55a-497d-bfd3-fc68401ff93e",
   "metadata": {},
   "outputs": [
    {
     "name": "stdout",
     "output_type": "stream",
     "text": [
      "Array elements: [3, 1, 4, 1, 5, 9, 2, 6, 5, 3]\n",
      "Maximum element: 9\n"
     ]
    }
   ],
   "source": [
    "# 1. Introduction to Arrays\n",
    "\n",
    "# Creating an array (Python list)\n",
    "array = [3, 1, 4, 1, 5, 9, 2, 6, 5, 3]\n",
    "print(\"Array elements:\", array)\n",
    "\n",
    "# Finding the maximum element in an array\n",
    "def find_max(arr):\n",
    "    max_element = arr[0]\n",
    "    for num in arr:\n",
    "        if num > max_element:\n",
    "            max_element = num\n",
    "    return max_element\n",
    "\n",
    "print(\"Maximum element:\", find_max(array))"
   ]
  },
  {
   "cell_type": "markdown",
   "id": "133681f8-1166-49dc-ac2c-be5271866786",
   "metadata": {},
   "source": [
    "5. First Simple Algorithm: Searching\n",
    "Linear Search\n",
    "Binary Search (with a sorted array)\n",
    "Example Exercise: Implement Linear and Binary Search in Python."
   ]
  },
  {
   "cell_type": "code",
   "execution_count": 3,
   "id": "86555921-0b53-4c93-9612-fe74a9b02726",
   "metadata": {},
   "outputs": [
    {
     "name": "stdout",
     "output_type": "stream",
     "text": [
      "Element 5 found at index: 4\n",
      "Sorted array: [1, 1, 2, 3, 3, 4, 5, 5, 6, 9]\n",
      "Element 5 found at index: 7\n"
     ]
    }
   ],
   "source": [
    "# 2. Linear Search Implementation\n",
    "def linear_search(arr, target):\n",
    "    for i in range(len(arr)):\n",
    "        if arr[i] == target:\n",
    "            return i  # Return index of target element\n",
    "    return -1  # Return -1 if not found\n",
    "\n",
    "# Example usage\n",
    "target = 5\n",
    "index = linear_search(array, target)\n",
    "print(f\"Element {target} found at index: {index}\" if index != -1 else \"Element not found\")\n",
    "\n",
    "# 3. Binary Search Implementation (requires sorted array)\n",
    "def binary_search(arr, target):\n",
    "    left, right = 0, len(arr) - 1\n",
    "    while left <= right:\n",
    "        mid = (left + right) // 2\n",
    "        if arr[mid] == target:\n",
    "            return mid\n",
    "        elif arr[mid] < target:\n",
    "            left = mid + 1\n",
    "        else:\n",
    "            right = mid - 1\n",
    "    return -1\n",
    "\n",
    "# Sorting the array before binary search\n",
    "sorted_array = sorted(array)\n",
    "print(\"Sorted array:\", sorted_array)\n",
    "\n",
    "# Example usage\n",
    "index = binary_search(sorted_array, target)\n",
    "print(f\"Element {target} found at index: {index}\" if index != -1 else \"Element not found\")\n"
   ]
  },
  {
   "cell_type": "markdown",
   "id": "845513d7-bc86-4016-9090-ebad92784f03",
   "metadata": {},
   "source": [
    "1. EXERCISE\n",
    "\n",
    "import time\n",
    "\n",
    "array = list(range(1, 1001))  # A sorted list from 1 to 1000\n",
    "\n",
    "def get_first_element(arr):\n",
    "    return arr[0]\n",
    "\n",
    "start = time.time()\n",
    "print(get_first_element(array))\n",
    "end = time.time()\n",
    "print(\"O(1) Execution Time:\", end - start)\n",
    "\n",
    "def sum_all_elements(arr):\n",
    "    total = 0\n",
    "    for num in arr:\n",
    "        total += num\n",
    "    return total\n",
    "\n",
    "start = time.time()\n",
    "print(sum_all_elements(array))\n",
    "end = time.time()\n",
    "print(\"O(n) Execution Time:\", end - start)\n",
    "\n",
    "def binary_search(arr, target):\n",
    "    left, right = 0, len(arr) - 1\n",
    "    while left <= right:\n",
    "        mid = (left + right) // 2\n",
    "        if arr[mid] == target:\n",
    "            return mid\n",
    "        elif arr[mid] < target:\n",
    "            left = mid + 1\n",
    "        else:\n",
    "            right = mid - 1\n",
    "    return -1\n",
    "\n",
    "start = time.time()\n",
    "print(binary_search(array, 750))\n",
    "end = time.time()\n",
    "print(\"O(log n) Execution Time:\", end - start)\n",
    "\n",
    "def bubble_sort(arr):\n",
    "    arr = arr.copy()  # To prevent modifying the original list\n",
    "    n = len(arr)\n",
    "    for i in range(n):\n",
    "        for j in range(0, n-i-1):\n",
    "            if arr[j] > arr[j+1]:\n",
    "                arr[j], arr[j+1] = arr[j+1], arr[j]\n",
    "    return arr\n",
    "\n",
    "start = time.time()\n",
    "bubble_sort(array)\n",
    "end = time.time()\n",
    "print(\"O(n²) Execution Time:\", end - start)\n",
    "\n"
   ]
  },
  {
   "cell_type": "code",
   "execution_count": 13,
   "id": "eb04e346-2e73-4dc8-a502-f527411d3c8c",
   "metadata": {},
   "outputs": [
    {
     "name": "stdout",
     "output_type": "stream",
     "text": [
      "1\n",
      "O(1) Execution Time: 0.0009999275207519531\n",
      "500500\n",
      "O(n) Execution Time: 0.0\n",
      "749\n",
      "O(log n) Execution Time: 0.0\n",
      "O(n²) Execution Time: 0.25891828536987305\n"
     ]
    }
   ],
   "source": [
    "import time\n",
    "\n",
    "array = list(range(1, 1001))  # A sorted list from 1 to 1000\n",
    "\n",
    "def get_first_element(arr):\n",
    "    return arr[0]\n",
    "\n",
    "start = time.time()\n",
    "print(get_first_element(array))\n",
    "end = time.time()\n",
    "print(\"O(1) Execution Time:\", end - start)\n",
    "\n",
    "def sum_all_elements(arr):\n",
    "    total = 0\n",
    "    for num in arr:\n",
    "        total += num\n",
    "    return total\n",
    "\n",
    "start = time.time()\n",
    "print(sum_all_elements(array))\n",
    "end = time.time()\n",
    "print(\"O(n) Execution Time:\", end - start)\n",
    "\n",
    "def binary_search(arr, target):\n",
    "    left, right = 0, len(arr) - 1\n",
    "    while left <= right:\n",
    "        mid = (left + right) // 2\n",
    "        if arr[mid] == target:\n",
    "            return mid\n",
    "        elif arr[mid] < target:\n",
    "            left = mid + 1\n",
    "        else:\n",
    "            right = mid - 1\n",
    "    return -1\n",
    "\n",
    "start = time.time()\n",
    "print(binary_search(array, 750))\n",
    "end = time.time()\n",
    "print(\"O(log n) Execution Time:\", end - start)\n",
    "\n",
    "def bubble_sort(arr):\n",
    "    arr = arr.copy()  # To prevent modifying the original list\n",
    "    n = len(arr)\n",
    "    for i in range(n):\n",
    "        for j in range(0, n-i-1):\n",
    "            if arr[j] > arr[j+1]:\n",
    "                arr[j], arr[j+1] = arr[j+1], arr[j]\n",
    "    return arr\n",
    "\n",
    "start = time.time()\n",
    "bubble_sort(array)\n",
    "end = time.time()\n",
    "print(\"O(n²) Execution Time:\", end - start)"
   ]
  },
  {
   "cell_type": "code",
   "execution_count": null,
   "id": "f175f50f-82a2-4669-b6b0-e3b9d4f4961d",
   "metadata": {},
   "outputs": [],
   "source": []
  }
 ],
 "metadata": {
  "kernelspec": {
   "display_name": "Python [conda env:base] *",
   "language": "python",
   "name": "conda-base-py"
  },
  "language_info": {
   "codemirror_mode": {
    "name": "ipython",
    "version": 3
   },
   "file_extension": ".py",
   "mimetype": "text/x-python",
   "name": "python",
   "nbconvert_exporter": "python",
   "pygments_lexer": "ipython3",
   "version": "3.12.7"
  }
 },
 "nbformat": 4,
 "nbformat_minor": 5
}
