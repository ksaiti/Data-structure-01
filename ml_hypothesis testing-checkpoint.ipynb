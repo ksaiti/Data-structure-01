{
 "cells": [
  {
   "cell_type": "markdown",
   "id": "bded0ac8-ca30-42ab-a918-a8cb72b62b10",
   "metadata": {},
   "source": [
    "\n",
    "\n",
    "# Model Evaluation and Hypothesis Testing\n",
    "\n",
    "## Introduction\n",
    "In this notebook, we will cover model evaluation metrics for classification and regression, followed by hypothesis testing for model comparison.\n",
    "\n",
    "## Steps:\n",
    "1. Generate synthetic classification data.\n",
    "2. Train Logistic Regression and Random Forest models.\n",
    "3. Evaluate models using accuracy, precision, recall, and F1-score.\n",
    "4. Perform hypothesis testing using paired t-test and Wilcoxon test.\n",
    "5. Visualize model performance.\n"
   ]
  },
  {
   "cell_type": "code",
   "execution_count": null,
   "id": "0ae98da1-cc79-452a-b049-e0fdeb823350",
   "metadata": {},
   "outputs": [],
   "source": [
    "import numpy as np\n",
    "import pandas as pd\n",
    "import matplotlib.pyplot as plt\n",
    "import seaborn as sns\n",
    "from sklearn.model_selection import train_test_split\n",
    "from sklearn.metrics import accuracy_score, precision_score, recall_score, f1_score, roc_auc_score, mean_absolute_error, mean_squared_error, r2_score\n",
    "from scipy.stats import ttest_rel, wilcoxon\n",
    "from sklearn.linear_model import LogisticRegression, LinearRegression\n",
    "from sklearn.ensemble import RandomForestClassifier, RandomForestRegressor\n",
    "\n",
    "# Generate synthetic classification dataset\n",
    "from sklearn.datasets import make_classification\n",
    "X, y = make_classification(n_samples=500, n_features=10, random_state=42)\n",
    "print(X)\n",
    "print(y)\n",
    "X_train, X_test, y_train, y_test = train_test_split(X, y, test_size=0.2, random_state=42)"
   ]
  },
  {
   "cell_type": "markdown",
   "id": "00e84df0-3e1b-4f1d-ae9b-376725da2d53",
   "metadata": {},
   "source": [
    "\n",
    "## Hypothesis Testing\n",
    "To determine whether there is a significant difference between the two models, we perform:\n",
    "- **Paired t-test**: Assumes normal distribution of performance differences.\n",
    "- **Wilcoxon signed-rank test**: A non-parametric alternative to the t-test.\n"
   ]
  },
  {
   "cell_type": "code",
   "execution_count": null,
   "id": "ddc0517d-4be6-46b2-83df-f9e60eb27054",
   "metadata": {},
   "outputs": [],
   "source": [
    "# Train classification models\n",
    "clf1 = LogisticRegression()\n",
    "clf2 = RandomForestClassifier()\n",
    "clf1.fit(X_train, y_train)\n",
    "clf2.fit(X_train, y_train)\n",
    "\n",
    "# Predictions and evaluation\n",
    "y_pred1 = clf1.predict(X_test)\n",
    "y_pred2 = clf2.predict(X_test)\n",
    "\n",
    "accuracy1 = accuracy_score(y_test, y_pred1)\n",
    "accuracy2 = accuracy_score(y_test, y_pred2)\n",
    "precision1 = precision_score(y_test, y_pred1)\n",
    "precision2 = precision_score(y_test, y_pred2)\n",
    "recall1 = recall_score(y_test, y_pred1)\n",
    "recall2 = recall_score(y_test, y_pred2)\n",
    "f1_1 = f1_score(y_test, y_pred1)\n",
    "f1_2 = f1_score(y_test, y_pred2)\n",
    "\n",
    "# Hypothesis testing\n",
    "model1_scores = np.random.normal(accuracy1, 0.02, 10)  # Simulating 10 runs\n",
    "model2_scores = np.random.normal(accuracy2, 0.02, 10)\n",
    "\n",
    "# Paired t-test\n",
    "t_stat, p_value = ttest_rel(model1_scores, model2_scores)\n",
    "\n",
    "# Wilcoxon test\n",
    "w_stat, w_p_value = wilcoxon(model1_scores, model2_scores)"
   ]
  },
  {
   "cell_type": "code",
   "execution_count": null,
   "id": "fd005858-4567-4b02-9c05-922a52361138",
   "metadata": {},
   "outputs": [],
   "source": [
    "# Visualization\n",
    "plt.figure(figsize=(8, 6))\n",
    "sns.boxplot(data=[model1_scores, model2_scores])\n",
    "plt.xticks([0, 1], ['Logistic Regression', 'Random Forest'])\n",
    "plt.ylabel('Accuracy Score')\n",
    "plt.title('Model Performance Comparison')\n",
    "plt.show()\n",
    "\n",
    "# Print results\n",
    "print(f'Paired t-test: t-statistic = {t_stat:.3f}, p-value = {p_value:.3f}')\n",
    "print(f'Wilcoxon test: W-statistic = {w_stat:.3f}, p-value = {w_p_value:.3f}')"
   ]
  },
  {
   "cell_type": "markdown",
   "id": "1132c3a8-37df-42d7-b2db-21e5ff31c4aa",
   "metadata": {},
   "source": [
    "\n",
    "## Conclusion\n",
    "- If the p-value from the paired t-test or Wilcoxon test is less than 0.05, we reject the null hypothesis and conclude that the models perform significantly differently.\n",
    "- Visualization helps in understanding the distribution of performance scores.\n"
   ]
  },
  {
   "cell_type": "markdown",
   "id": "cb09b1c0-b6f0-40c1-beb5-a1832c2a055e",
   "metadata": {},
   "source": [
    "\n",
    "## Clinical Study Exercise: Drug vs. Placebo\n",
    "### Problem Statement\n",
    "A clinical study is conducted to compare the effectiveness of a new drug against a placebo. We will:\n",
    "1. Generate synthetic data representing patient improvement scores (scale 0-100).\n",
    "2. Use hypothesis testing to determine if the drug significantly outperforms the placebo.\n"
   ]
  },
  {
   "cell_type": "code",
   "execution_count": null,
   "id": "38313c0f-7790-4c9f-b0af-f10cde325266",
   "metadata": {},
   "outputs": [],
   "source": [
    "# Generate synthetic clinical study data\n",
    "import numpy as np\n",
    "\n",
    "\n",
    "# Set the random seed for reproducibility\n",
    "np.random.seed(42)  \n",
    "\n",
    "# Define the number of patients in the clinical study\n",
    "num_patients = 30  \n",
    "\n",
    "# Generate synthetic data for the drug group:\n",
    "# - Mean improvement score = 70\n",
    "# - Standard deviation = 10\n",
    "# - Number of samples = 30\n",
    "drug_effect = np.random.normal(70, 10, num_patients)  \n",
    "\n",
    "# Generate synthetic data for the placebo group:\n",
    "# - Mean improvement score = 60\n",
    "# - Standard deviation = 10\n",
    "# - Number of samples = 30\n",
    "placebo_effect = np.random.normal(60, 10, num_patients)  \n"
   ]
  },
  {
   "cell_type": "code",
   "execution_count": null,
   "id": "d1bf48d2-7f40-48dc-a6b8-6712fc7efaa7",
   "metadata": {},
   "outputs": [],
   "source": [
    "print(drug_effect)"
   ]
  },
  {
   "cell_type": "code",
   "execution_count": null,
   "id": "4ba385df-b3e4-44b9-8109-6d83c18dcaf1",
   "metadata": {},
   "outputs": [],
   "source": [
    "print(placebo_effect)"
   ]
  },
  {
   "cell_type": "code",
   "execution_count": null,
   "id": "bd26a94f-b8d8-4224-8447-552979b41afb",
   "metadata": {},
   "outputs": [],
   "source": [
    "import matplotlib.pyplot as plt\n",
    "import seaborn as sns\n",
    "# Plot distributions\n",
    "plt.figure(figsize=(8, 6))\n",
    "sns.histplot(drug_effect, kde=True, color='blue', label='Drug', bins=15, alpha=0.6)\n",
    "sns.histplot(placebo_effect, kde=True, color='red', label='Placebo', bins=15, alpha=0.6)"
   ]
  },
  {
   "cell_type": "code",
   "execution_count": null,
   "id": "0e423177-d54c-4b7e-a9cb-e8c08c8e71e8",
   "metadata": {},
   "outputs": [],
   "source": [
    "# Perform hypothesis testing\n",
    "t_stat_clinical, p_value_clinical = ttest_rel(drug_effect, placebo_effect)\n",
    "w_stat_clinical, w_p_value_clinical = wilcoxon(drug_effect, placebo_effect)"
   ]
  },
  {
   "cell_type": "code",
   "execution_count": null,
   "id": "618a0c1a-c8d6-4798-aa6e-1e9aa62327d7",
   "metadata": {},
   "outputs": [],
   "source": [
    "# Visualization\n",
    "plt.figure(figsize=(8, 6))\n",
    "sns.boxplot(data=[drug_effect, placebo_effect])\n",
    "plt.xticks([0, 1], ['Drug', 'Placebo'])\n",
    "plt.ylabel('Patient Improvement Score')\n",
    "plt.title('Clinical Study: Drug vs. Placebo')\n",
    "plt.show()"
   ]
  },
  {
   "cell_type": "code",
   "execution_count": null,
   "id": "35769304-f6ea-49a2-8f21-f2a62b6a4459",
   "metadata": {},
   "outputs": [],
   "source": [
    "# Print results\n",
    "print(f'Paired t-test (Drug vs. Placebo): t-statistic = {t_stat_clinical:.3f}, p-value = {p_value_clinical:.3f}')\n",
    "print(f'Wilcoxon test (Drug vs. Placebo): W-statistic = {w_stat_clinical:.3f}, p-value = {w_p_value_clinical:.3f}')"
   ]
  },
  {
   "cell_type": "markdown",
   "id": "e491ff35-cd40-493e-91a1-395b7b7f8d1e",
   "metadata": {},
   "source": [
    "\n",
    "## Conclusion\n",
    "- If the p-value is less than 0.05, we conclude that the drug has a significant effect compared to the placebo.\n",
    "- The visualization helps us understand the distribution of patient improvement scores.\n",
    "\n"
   ]
  },
  {
   "cell_type": "code",
   "execution_count": null,
   "id": "81a408aa-b42d-4b6e-b0c9-485b5cf879ef",
   "metadata": {},
   "outputs": [],
   "source": [
    "!pip install kagglehub\n"
   ]
  },
  {
   "cell_type": "code",
   "execution_count": null,
   "id": "956ddad3-a268-4d13-b9dc-116c0a215eec",
   "metadata": {},
   "outputs": [],
   "source": [
    "!pip install pandas\n",
    "#command to install any library"
   ]
  },
  {
   "cell_type": "code",
   "execution_count": null,
   "id": "9a90e0cf-964a-4872-8d89-d138940d702b",
   "metadata": {},
   "outputs": [],
   "source": [
    "import pandas as pd\n",
    "\n",
    "# Load the Excel file\n",
    "df = pd.read_csv(r'C:\\Users\\ksait\\Desktop\\data mining and machine learning\\insurance.csv')\n",
    "\n",
    "# Display the first few rows of the dataframe\n",
    "df.head()   ### Why prints 0-4?\n"
   ]
  },
  {
   "cell_type": "code",
   "execution_count": null,
   "id": "781b454e-ad2d-4200-846b-72826722e9fc",
   "metadata": {},
   "outputs": [],
   "source": [
    "df.info()\n",
    "df.describe()"
   ]
  },
  {
   "cell_type": "code",
   "execution_count": null,
   "id": "6383bbcb-8f5c-4614-a6d7-a8dd5d0f920d",
   "metadata": {},
   "outputs": [],
   "source": [
    "df.isnull()\n",
    "df.isnull().sum()"
   ]
  },
  {
   "cell_type": "code",
   "execution_count": null,
   "id": "e9d9a09e-6ef7-48e5-986f-7f420ba4e1f4",
   "metadata": {},
   "outputs": [],
   "source": [
    "df.columns"
   ]
  },
  {
   "cell_type": "markdown",
   "id": "efa98de1-2617-4fee-9d2d-73572a88fcbe",
   "metadata": {},
   "source": [
    "# Set Hypotheses for Testing: We choose a hypothesis to test, for example:\n",
    "## Test for difference in premiums based on smoking status:\n",
    "\n",
    "1. Null Hypothesis (H0): There is no significant difference in insurance premiums between smokers and non-smokers.\n",
    "\n",
    "2. Alternative Hypothesis (H1): There is a significant difference in insurance premiums between smokers and non-smokers."
   ]
  },
  {
   "cell_type": "code",
   "execution_count": null,
   "id": "4edfbc51-26aa-4157-8394-55488fc8e50f",
   "metadata": {},
   "outputs": [],
   "source": [
    "import scipy.stats as stats\n",
    "\n",
    "# Separate the data based on 'Smoker' column\n",
    "smoker = df[df['smoker'] == 'yes']['charges']\n",
    "non_smoker = df[df['smoker'] == 'no']['charges']\n",
    "\n",
    "# Perform the t-test\n",
    "t_stat, p_value = stats.ttest_ind(smoker, non_smoker)\n",
    "\n",
    "# Print the results\n",
    "t_stat, p_value\n"
   ]
  },
  {
   "cell_type": "markdown",
   "id": "5a31d326-e21a-4a8f-a307-42d1bc073580",
   "metadata": {},
   "source": [
    "# Interpret the Results:\n",
    "1. t-statistic: It tells you how far the sample mean is from the null hypothesis.\n",
    "2. p-value: If the p-value is less than your significance level (commonly 0.05), you reject the null hypothesis."
   ]
  },
  {
   "cell_type": "code",
   "execution_count": null,
   "id": "7b5e9ebf-5289-4e95-9673-07d8d4cfece3",
   "metadata": {},
   "outputs": [],
   "source": [
    "# If p-value is less than 0.05, we reject the null hypothesis\n",
    "if p_value < 0.05:\n",
    "    print(\"Reject the null hypothesis: There is a significant difference in premiums between smokers and non-smokers.\")\n",
    "else:\n",
    "    print(\"Fail to reject the null hypothesis: There is no significant difference in premiums between smokers and non-smokers.\")\n"
   ]
  },
  {
   "cell_type": "markdown",
   "id": "85b159f1-7d9d-4db0-94d5-c03c19d91bcb",
   "metadata": {},
   "source": [
    "# Linear Regression Model & Hypothesis Test"
   ]
  },
  {
   "cell_type": "code",
   "execution_count": null,
   "id": "5ec5be30-5869-44f9-bdd4-749fac3f7e09",
   "metadata": {},
   "outputs": [],
   "source": [
    "import pandas as pd\n",
    "import statsmodels.api as sm\n",
    "import numpy as np\n",
    "\n",
    "# Load the dataset\n",
    "df = pd.read_csv(r'C:\\Users\\ksait\\Desktop\\data mining and machine learning\\insurance.csv')\n",
    "\n",
    "# Convert 'smoker' to 1 for 'yes' and 0 for 'no'\n",
    "df['smoker_yes'] = df['smoker'].apply(lambda x: 1 if x == 'yes' else 0)\n",
    "\n",
    "# Create lagged values for the dependent variable (charges)\n",
    "df['lagged_charges'] = df['charges'].shift(1)  # Lag 1\n",
    "\n",
    "# Drop the first row which will have NaN for the lagged variable\n",
    "df = df.dropna()\n",
    "\n",
    "# Define the independent variable as the lagged charges and the dependent variable as charges\n",
    "X_ar = df[['lagged_charges']]\n",
    "y_ar = df['charges']\n",
    "\n",
    "# Add a constant (intercept) to the features\n",
    "X_with_intercept = sm.add_constant(X_ar)\n",
    "print(X_with_intercept)\n",
    "\n",
    "# Fit the linear regression model using statsmodels\n",
    "model = sm.OLS(y_ar, X_with_intercept).fit()\n",
    "\n",
    "# Get the summary of the model (includes t-statistics and p-values)\n",
    "print(model.summary())\n"
   ]
  },
  {
   "cell_type": "markdown",
   "id": "a4c483da-711a-4a37-965e-e6e672c60814",
   "metadata": {},
   "source": [
    "## Interpretation:\n",
    "If the p-value is less than 0.05, it indicates that the lagged value of charges has a statistically significant relationship with the current charges.\n",
    "\n",
    "The coefficient for lagged_charges tells you how much of an effect the previous value of charges has on the current value."
   ]
  },
  {
   "cell_type": "markdown",
   "id": "2c6d9765-bcc1-405c-9a12-d77aa614db62",
   "metadata": {},
   "source": [
    "# ARX Model (AutoRegressive with Exogenous variables)"
   ]
  },
  {
   "cell_type": "code",
   "execution_count": null,
   "id": "9ccf2c31-01e5-4512-9993-a7c77a64d18a",
   "metadata": {},
   "outputs": [],
   "source": [
    "# Create lagged values for the dependent variable (charges)\n",
    "\n",
    "df['lagged_charges'] = df['charges'].shift(1)  # 1-period lag\n",
    "\n",
    "# Drop the first row which will have NaN for the lagged variable\n",
    "df = df.dropna()\n",
    "\n",
    "# Define the independent variables and the dependent variable\n",
    "X_arx = df[['age', 'bmi', 'children', 'smoker_yes', 'lagged_charges']]\n",
    "y_arx = df['charges']\n",
    "\n",
    "# Add a constant to the independent variables\n",
    "X_arx_with_intercept = sm.add_constant(X_arx)\n",
    "\n",
    "# Fit the ARX model using statsmodels\n",
    "model_arx = sm.OLS(y_arx, X_arx_with_intercept).fit()\n",
    "\n",
    "# Get the summary of the ARX model\n",
    "print(model_arx.summary())\n"
   ]
  },
  {
   "cell_type": "markdown",
   "id": "9dd88440-b5f2-4e64-8f3e-78f2f11c05f7",
   "metadata": {},
   "source": [
    "# Model Overview:\n",
    "1. R-squared: 0.750: This means that 75% of the variability in charges is explained by the independent variables (including the lagged value of charges). This is a good fit, especially in cases where the data is complex.\n",
    "   \n",
    "2. Adjusted R-squared: 0.749: This takes into account the number of predictors in the model, penalizing for the inclusion of unnecessary variables. The value being close to R-squared suggests that the model is well-calibrated.\n",
    "\n",
    "   \n",
    "3. F-statistic: 798.2 and Prob (F-statistic) = 0.000: This tests the overall significance of the regression model. A very low p-value (0.000) indicates that the model is statistically significant, and at least one of the predictors is related to charges."
   ]
  },
  {
   "cell_type": "markdown",
   "id": "d2ad3245-d1e5-49f8-83ee-746ca5606dac",
   "metadata": {},
   "source": [
    "# Hypothesis Testing for Individual Coefficients:\n",
    "Each variable in your regression model has an associated coefficient, t-statistic, p-value, and confidence interval. Here's how to interpret these values for hypothesis testing:\n",
    "\n",
    "a. Constant (Intercept):\n",
    "coef = -11,900: This is the estimated intercept of the regression line. It represents the baseline level of charges when all independent variables are zero (though this may not be meaningful in this context).\n",
    "t = -12.378: This is the t-statistic for the constant term, used to test if the coefficient is significantly different from zero.\n",
    "P>|t| = 0.000: This p-value is very small, indicating that the constant term is significantly different from zero.\n",
    "\n",
    "b. Age:\n",
    "coef = 257.49: For every 1-year increase in age, the charges are expected to increase by about 257.49 units.\n",
    "t = 21.587: A very large t-statistic suggests a strong relationship between age and charges.\n",
    "P>|t| = 0.000: This p-value is very small, meaning that age is a statistically significant predictor of charges.\n",
    "\n",
    "c. BMI:\n",
    "coef = 320.94: For every 1-unit increase in bmi, the charges are expected to increase by 320.94 units.\n",
    "t = 11.713: This is also a strong t-statistic, suggesting a significant relationship.\n",
    "P>|t| = 0.000: The small p-value indicates that bmi is a statistically significant predictor of charges.\n",
    "\n",
    "d. Children:\n",
    "coef = 467.70: For every additional child, charges are expected to increase by 467.70 units.\n",
    "t = 3.393: The t-statistic is significant, showing a moderate relationship.\n",
    "P>|t| = 0.001: This small p-value shows that the number of children is a statistically significant predictor of charges.\n",
    "\n",
    "e. Smoker (smoker_yes):\n",
    "coef = 23,840: Smokers have charges that are 23,840 units higher than non-smokers, all other variables being equal.\n",
    "t = 57.887: This very large t-statistic shows a strong relationship between smoking status and charges.\n",
    "P>|t| = 0.000: This small p-value indicates that being a smoker is a highly significant predictor of charges.\n",
    "\n",
    "f. Lagged Charges:\n",
    "coef = -0.0113: The coefficient for lagged_charges indicates that for every 1-unit increase in the previous period's charges, the current charges would decrease by 0.0113 units.\n",
    "t = -0.821: This is quite small, indicating that the lagged value of charges has a weak effect.\n",
    "P>|t| = 0.412: The p-value is greater than 0.05, indicating that lagged_charges is not a statistically significant predictor of current charges. This suggests that past charges do not significantly influence the current charges in this model.\n",
    "\n",
    "## Conclusion:\n",
    "Significant predictors: age, bmi, children, and smoker_yes are all statistically significant predictors of charges because their p-values are all much smaller than 0.05.\n",
    "Insignificant predictor: lagged_charges is not statistically significant (p-value = 0.412), which suggests that including the previous value of charges as a predictor does not improve the model."
   ]
  },
  {
   "cell_type": "markdown",
   "id": "b4ed8e32-eefd-4889-bdcb-5c6d823eadce",
   "metadata": {},
   "source": [
    "# Exercise \n",
    "\n",
    "## Create lagged values for the dependent variable (charges)"
   ]
  },
  {
   "cell_type": "code",
   "execution_count": null,
   "id": "2bb0c3c2-c332-4be6-822d-82ea901efe70",
   "metadata": {},
   "outputs": [],
   "source": [
    "# Create lagged values for exogenous variables (independent variables)\n",
    "df['lagged_age'] = df['age'].shift(1)\n",
    "df['lagged_bmi'] = df['bmi'].shift(1)\n",
    "df['lagged_children'] = df['children'].shift(1)\n",
    "df['lagged_smoker_yes'] = df['smoker_yes'].shift(1)\n",
    "\n",
    "# Drop the rows where any of the lagged values will have NaN (this happens for the first row after lagging)\n",
    "df = df.dropna()\n",
    "\n",
    "# Define the independent variables (including lagged variables) and the dependent variable\n",
    "X_arx_lagged = df[['age', 'bmi', 'children', 'smoker_yes', 'lagged_charges', \n",
    "                   'lagged_age', 'lagged_bmi', 'lagged_children', 'lagged_smoker_yes']]\n",
    "\n",
    "y_arx = df['charges']\n",
    "\n",
    "# Add a constant (intercept) to the independent variables\n",
    "X_arx_with_intercept = sm.add_constant(X_arx_lagged)\n",
    "\n",
    "# Fit the ARX model using statsmodels\n",
    "model_arx = sm.OLS(y_arx, X_arx_with_intercept).fit()\n",
    "\n",
    "# Get the summary of the ARX model\n",
    "print(model_arx.summary())\n"
   ]
  },
  {
   "cell_type": "code",
   "execution_count": null,
   "id": "71f9d843-b3ba-4c45-9e6a-3ba5d28fbda4",
   "metadata": {},
   "outputs": [],
   "source": []
  }
 ],
 "metadata": {
  "kernelspec": {
   "display_name": "Python [conda env:base] *",
   "language": "python",
   "name": "conda-base-py"
  },
  "language_info": {
   "codemirror_mode": {
    "name": "ipython",
    "version": 3
   },
   "file_extension": ".py",
   "mimetype": "text/x-python",
   "name": "python",
   "nbconvert_exporter": "python",
   "pygments_lexer": "ipython3",
   "version": "3.12.7"
  }
 },
 "nbformat": 4,
 "nbformat_minor": 5
}
