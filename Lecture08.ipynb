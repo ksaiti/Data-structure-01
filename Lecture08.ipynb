{
 "cells": [
  {
   "cell_type": "markdown",
   "id": "60a98132-f384-4ce8-8837-a86edb06950b",
   "metadata": {},
   "source": [
    "# Hashing and Symbol Tables\n",
    "so far:\n",
    "data structures\n",
    "lists\n",
    "tuples\n",
    "strings\n",
    "\n",
    "--> dictionaries\n",
    "\n",
    "A dictionary uses a keyword instead of an index number.\n",
    "Example: address book \n",
    "mobile phones\n",
    "addresses\n",
    "names\n",
    "\n",
    "lets say, name James\n",
    "if I want to index the name James then I need to search and use the keyword James\n",
    "\n",
    "Dictionaries are often built using hash tables.\n",
    "Hashing\n",
    "Hash tables\n",
    "Different functions with elements\n",
    "\n",
    "## Concept: Hashing\n",
    "Hashing is the concept of converting data of arbitary size into data of fixed size. \n",
    "For example, we are going to see how we will convert strings into integers.\n",
    "\n",
    "\n"
   ]
  },
  {
   "cell_type": "markdown",
   "id": "35e0aca2-1699-49fc-b312-ac89bb16c9fb",
   "metadata": {},
   "source": [
    "# Example\n",
    "\n",
    "We want to hash the expression \"hello world\", means that we want to get the numeric value that we could say represents the string. \n",
    "\n",
    "We use the function ord(), we can get the ordinal value of any character.\n",
    "For example, if I ask ord('f') function gives 102. "
   ]
  },
  {
   "cell_type": "code",
   "execution_count": 4,
   "id": "684907fd-d373-4bce-a069-32ed43bdd872",
   "metadata": {},
   "outputs": [
    {
     "name": "stdout",
     "output_type": "stream",
     "text": [
      "102\n",
      "104\n",
      "101\n",
      "32\n"
     ]
    }
   ],
   "source": [
    "print(ord('f'))\n",
    "print(ord('h'))\n",
    "print(ord('e'))\n",
    "print(ord(' '))"
   ]
  },
  {
   "attachments": {
    "f0ca5859-b74f-4b0c-94b2-ed409d149b59.png": {
     "image/png": "[encoded data removed]"
    }
   },
   "cell_type": "markdown",
   "id": "369dea85-5da5-45ca-a6d3-b415f9db4ed5",
   "metadata": {},
   "source": [
    "![image.png](attachment:f0ca5859-b74f-4b0c-94b2-ed409d149b59.png)"
   ]
  },
  {
   "cell_type": "code",
   "execution_count": 5,
   "id": "e7e9d333-a0bd-40f0-a46d-0cad6cf425af",
   "metadata": {},
   "outputs": [
    {
     "data": {
      "text/plain": [
       "1116"
      ]
     },
     "execution_count": 5,
     "metadata": {},
     "output_type": "execute_result"
    }
   ],
   "source": [
    "sum(map(ord, 'hello world'))"
   ]
  },
  {
   "cell_type": "code",
   "execution_count": 6,
   "id": "65b0a19f-0de7-4ea6-8ee1-ddf466606ccf",
   "metadata": {},
   "outputs": [
    {
     "data": {
      "text/plain": [
       "1116"
      ]
     },
     "execution_count": 6,
     "metadata": {},
     "output_type": "execute_result"
    }
   ],
   "source": [
    "sum(map(ord, 'wello horld'))"
   ]
  },
  {
   "cell_type": "code",
   "execution_count": 7,
   "id": "844b56ae-ba75-4f1b-bbb6-5b56b13232c0",
   "metadata": {},
   "outputs": [
    {
     "data": {
      "text/plain": [
       "1132"
      ]
     },
     "execution_count": 7,
     "metadata": {},
     "output_type": "execute_result"
    }
   ],
   "source": [
    "sum(map(ord, 'xello world'))"
   ]
  },
  {
   "cell_type": "code",
   "execution_count": 8,
   "id": "8f588e4f-3290-47d2-8231-dc2bf6d2e648",
   "metadata": {},
   "outputs": [
    {
     "data": {
      "text/plain": [
       "1084"
      ]
     },
     "execution_count": 8,
     "metadata": {},
     "output_type": "execute_result"
    }
   ],
   "source": [
    "sum(map(ord, 'Hello world'))"
   ]
  },
  {
   "cell_type": "code",
   "execution_count": 9,
   "id": "e6479707-e0e0-4ca3-addf-cee0b993a59f",
   "metadata": {},
   "outputs": [
    {
     "name": "stdout",
     "output_type": "stream",
     "text": [
      "72\n"
     ]
    }
   ],
   "source": [
    "print(ord('H'))"
   ]
  },
  {
   "cell_type": "markdown",
   "id": "0f0c997d-319b-49be-8ad1-4346ba294189",
   "metadata": {},
   "source": [
    "# Perfect hashing functions\n",
    "\n",
    "A perfect hashing function is one which each string is guaranteed to be uniquie. \n"
   ]
  },
  {
   "cell_type": "code",
   "execution_count": 14,
   "id": "c7566c99-3789-4c4f-84ee-618d92044a2a",
   "metadata": {},
   "outputs": [],
   "source": [
    "def myhash(s):\n",
    "    mult = 1\n",
    "    hv = 0\n",
    "    for ch in s:\n",
    "        hv += mult * ord(ch)\n",
    "        mult  += 1\n",
    "    return hv\n"
   ]
  },
  {
   "cell_type": "code",
   "execution_count": 15,
   "id": "48664079-6022-41ba-a32c-e6c54d9f6cbd",
   "metadata": {},
   "outputs": [
    {
     "name": "stdout",
     "output_type": "stream",
     "text": [
      "hello world: 6736\n",
      "world hello: 6616\n",
      "gello xorld: 6742\n"
     ]
    }
   ],
   "source": [
    "for item in ('hello world', 'world hello', 'gello xorld'):\n",
    "    print (\"{}: {}\".format(item, myhash(item)))"
   ]
  },
  {
   "cell_type": "markdown",
   "id": "f1619fe9-188a-4ad7-beef-fa4017efc07c",
   "metadata": {},
   "source": [
    "# Hash Tables\n",
    "\n",
    "examples lists\n",
    "list = [2 1 4 5 7 11]\n",
    "index = 1 --> 1 (we start from 0)\n",
    "index = 0 --> 2\n",
    "index = 4 --> 7 \n",
    "\n",
    "Hash table is a form of list where elements are accessed by a keyword\n",
    "\n"
   ]
  },
  {
   "cell_type": "code",
   "execution_count": 16,
   "id": "006e2788-2f9e-45be-be5c-2e4b848f7733",
   "metadata": {},
   "outputs": [],
   "source": [
    "class HashItem:\n",
    "    def _init_(self, key, value): # _init_ function to create dictionaries\n",
    "        self.key = key             # main body \n",
    "        self.value = value \n",
    "\n",
    "# this class gives a simple example of how to store data in dictionaries\n"
   ]
  },
  {
   "cell_type": "code",
   "execution_count": 17,
   "id": "84157755-9486-4fa9-bff0-81b008585840",
   "metadata": {},
   "outputs": [],
   "source": [
    "class HashTable:\n",
    "    def _init_(self):\n",
    "        self.size = 256\n",
    "        self.slots = [None for i in range(self.size)]\n",
    "        self.count = 0  # start with the first element as zero"
   ]
  },
  {
   "attachments": {
    "ad79f3e6-0bb9-40a2-b025-d163ba793697.png": {
     "image/png": "[encoded data removed]"
    }
   },
   "cell_type": "markdown",
   "id": "6aeb506e-117e-4baa-8476-bd20df0d5fec",
   "metadata": {},
   "source": [
    "![image.png](attachment:ad79f3e6-0bb9-40a2-b025-d163ba793697.png)"
   ]
  },
  {
   "cell_type": "code",
   "execution_count": null,
   "id": "f4932fa5-0538-4a5d-b7c6-485c606e339e",
   "metadata": {},
   "outputs": [],
   "source": [
    "def _hash(self, key):\n",
    "    mult = 1\n",
    "    hv = 0 \n",
    "    for ch in key:\n",
    "        hv += mult * ord(ch)\n",
    "        mult += 1\n",
    "    return hv "
   ]
  }
 ],
 "metadata": {
  "kernelspec": {
   "display_name": "Python 3 (ipykernel)",
   "language": "python",
   "name": "python3"
  },
  "language_info": {
   "codemirror_mode": {
    "name": "ipython",
    "version": 3
   },
   "file_extension": ".py",
   "mimetype": "text/x-python",
   "name": "python",
   "nbconvert_exporter": "python",
   "pygments_lexer": "ipython3",
   "version": "3.12.7"
  }
 },
 "nbformat": 4,
 "nbformat_minor": 5
}
