{
 "cells": [
  {
   "cell_type": "markdown",
   "id": "0e1eeed3-9fb5-454d-9132-710052477e94",
   "metadata": {},
   "source": [
    "# Implentations, Applications, and Tools"
   ]
  },
  {
   "cell_type": "code",
   "execution_count": null,
   "id": "b1a12f64-60ee-4b67-9f36-1d6ef69bed52",
   "metadata": {},
   "outputs": [],
   "source": [
    "% pip install numpy # A library with functions to operate on n- dimensional arrays and matrices.\n",
    "% pip install scikit-learn #  A highly advanced module for machine learning. It contains a good number of algorithms for classification, regressio, clustering etc.\n",
    "% pip install matplotlib # This a plotting library that makes use of NumPy to graph a good variety of charts\n",
    "% pip install pandas # The library that deals with data manipulation\n",
    "% pip install textblob # read data from cloud, from blobs"
   ]
  },
  {
   "cell_type": "markdown",
   "id": "22603268-2dfd-422e-81ff-6ff1e1e7e401",
   "metadata": {},
   "source": [
    "# Data preprocessing\n",
    "\n",
    "## Why to process raw data?\n",
    "\n",
    "raw data = json files, txt, pdfs, word document etc., tables etc.\n",
    "1. structured data, unstructured data, semi-structured?\n",
    "2. feature selection, evaluate the features\n",
    "3. historical data, enough features\n",
    "4. ### Missing Data\n",
    "- remove missing rows\n",
    "- fill with the median, the max, the minumum the missing rows per column\n"
   ]
  },
  {
   "cell_type": "code",
   "execution_count": null,
   "id": "f4e9a8e0-6a2a-418b-aea5-52ed5556a2f7",
   "metadata": {},
   "outputs": [],
   "source": [
    "import numpy as np\n",
    "import pandas as pd\n",
    "data = pd.DataFrame([\n",
    "    [4.,45.,984.],\n",
    "    [np.NAN, np.NAN, 5.],\n",
    "    [94., 23., 55.],\n",
    "])\n",
    "data # to print the DataFrame"
   ]
  },
  {
   "cell_type": "code",
   "execution_count": null,
   "id": "7830da44-7455-450c-b623-6170286839bd",
   "metadata": {},
   "outputs": [],
   "source": [
    "print(data.fillna(2.5))"
   ]
  },
  {
   "cell_type": "code",
   "execution_count": null,
   "id": "be279335-39ee-4c12-a24b-dbb6cba02a81",
   "metadata": {},
   "outputs": [],
   "source": [
    "print(data.fillna(data.mean()))"
   ]
  },
  {
   "cell_type": "code",
   "execution_count": null,
   "id": "4cb72530-062c-465e-9035-cc07bd07dcd5",
   "metadata": {},
   "outputs": [],
   "source": [
    "print(data.fillna(data.max()))"
   ]
  },
  {
   "cell_type": "code",
   "execution_count": null,
   "id": "b684193c-1a65-4bf4-bd89-aa30d23792c6",
   "metadata": {},
   "outputs": [],
   "source": [
    "print(data.fillna(data.min()))"
   ]
  },
  {
   "cell_type": "markdown",
   "id": "67fb24f2-5168-4ff2-90cd-7989635649c7",
   "metadata": {},
   "source": [
    "# Feature scaling \n",
    "\n"
   ]
  },
  {
   "cell_type": "code",
   "execution_count": null,
   "id": "116ac2d7-2a57-4de6-8129-45791f5ebbdb",
   "metadata": {},
   "outputs": [],
   "source": [
    "data = pd.DataFrame([\n",
    "    [58.,1.,43.],\n",
    "    [10., 200., 65.],\n",
    "    [20., 75., 7.],\n",
    "])\n",
    "data # to print the DataFrame"
   ]
  },
  {
   "cell_type": "markdown",
   "id": "764eca50-3abd-4042-92dd-36a851a413fc",
   "metadata": {},
   "source": [
    "# Min-Max scalar\n",
    "\n",
    "stand_scalar = preprocessing.StandardScaler().fit(data)\n",
    "results = stand_scalar.transform(data)\n",
    "print(results)"
   ]
  },
  {
   "cell_type": "code",
   "execution_count": null,
   "id": "25a4ea1f-3a9a-4330-89b2-eab222655378",
   "metadata": {},
   "outputs": [],
   "source": [
    "# first to install the library\n",
    "\n",
    "%pip install scikit-learn\n",
    "\n"
   ]
  },
  {
   "cell_type": "code",
   "execution_count": null,
   "id": "23ae5542-9521-4dbe-95d2-d163396fd6e4",
   "metadata": {},
   "outputs": [],
   "source": [
    "from sklearn import preprocessing\n",
    "\n",
    "data = pd.DataFrame([\n",
    "    [58.,1.,43.],\n",
    "    [10., 200., 65.],\n",
    "    [20., 75., 7.],\n",
    "])\n",
    "\n",
    "scaled_values = preprocessing.MinMaxScaler(feature_range = (0,1))\n",
    "results = scaled_values.fit(data).transform(data)\n",
    "print(results)"
   ]
  },
  {
   "cell_type": "markdown",
   "id": "39c7dcbe-4073-49d4-a76f-fd7db5f9f0cb",
   "metadata": {},
   "source": [
    "# Standard scalar \n",
    "## gaussian distribution"
   ]
  },
  {
   "cell_type": "code",
   "execution_count": null,
   "id": "b52c5bf3-d73f-46a8-8e25-e9065a56f3c1",
   "metadata": {},
   "outputs": [],
   "source": [
    "from sklearn import preprocessing\n",
    "\n",
    "data = pd.DataFrame([\n",
    "    [58.,1.,43.],\n",
    "    [10., 200., 65.],\n",
    "    [20., 75., 7.],\n",
    "])\n",
    "\n",
    "stand_scalar = preprocessing.StandardScaler().fit(data)\n",
    "results = stand_scalar.transform(data)\n",
    "print(results)"
   ]
  },
  {
   "cell_type": "markdown",
   "id": "4612781e-a579-4b0b-8c62-9751a7887db0",
   "metadata": {},
   "source": [
    "# Binarizing data\n",
    "\n"
   ]
  },
  {
   "cell_type": "code",
   "execution_count": null,
   "id": "4368e27a-a70f-45ea-934f-fe3df65291ab",
   "metadata": {},
   "outputs": [],
   "source": [
    "from sklearn import preprocessing\n",
    "import pandas as pd\n",
    "data = pd.DataFrame([\n",
    "    [58,1,43],\n",
    "    [10, 200, 65],\n",
    "    [20, 75, 7],\n",
    "])\n",
    "\n",
    "binary_scalar = preprocessing.Binarizer(threshold=50).fit(data)\n",
    "results =binary_scalar.transform(data)\n",
    "print(results)"
   ]
  },
  {
   "cell_type": "markdown",
   "id": "0659ff5a-7c96-49d3-aeec-88d2c78b86d3",
   "metadata": {},
   "source": [
    "# Machine Learning "
   ]
  },
  {
   "cell_type": "markdown",
   "id": "6b7484dc-a378-45d6-a70e-42d145d48c45",
   "metadata": {},
   "source": [
    "## three categories \n",
    "1. Supervised learning: an algorith is fed a set of inputs and their corresponding outputs. The algorithm then has to figure out what the output will be for an unfamiliar input.\n",
    "2. Unsupervised learning: without the relationship that exists between a set of inputs and output variables.\n",
    "3. Reinforcement learning: the computer in this kind of learning dynamically interacts with the environemt in such way as to imporve its performance. "
   ]
  },
  {
   "cell_type": "code",
   "execution_count": 5,
   "id": "e00e5f74-f868-4edc-a771-b5477aa44fb9",
   "metadata": {},
   "outputs": [
    {
     "name": "stdout",
     "output_type": "stream",
     "text": [
      "Accuracy: 1.00\n"
     ]
    }
   ],
   "source": [
    "### Supervised learning for Classification\n",
    "\n",
    "from sklearn.datasets import load_iris\n",
    "from sklearn.model_selection import train_test_split\n",
    "from sklearn.ensemble import RandomForestClassifier\n",
    "from sklearn.metrics import accuracy_score\n",
    "\n",
    "iris = load_iris()\n",
    "X= iris.data # depending on length and width to predict the flower, X is a matrix contains all the features/variables that the model will use as features to estimate the output\n",
    "y= iris.target # y is a vector and it is the target value\n",
    "#print(X)  #to keep the code but not run it just use # comment\n",
    "#print(y)\n",
    "\n",
    "#split data\n",
    "X_train, X_test, y_train, y_test = train_test_split(X, y, test_size=0.3, random_state=42)\n",
    "\n",
    "#how to apply/train RandomForestClassifier\n",
    "rf = RandomForestClassifier() # to call the model\n",
    "rf.fit(X_train, y_train) # to fit the model\n",
    "\n",
    "#how to measure the accuracy of the classifier --> Evaluation --> Testing set \n",
    "y_pred = rf.predict(X_test)\n",
    "accuracy = accuracy_score(y_test, y_pred)\n",
    "\n",
    "print(f\"Accuracy: {accuracy:.2f}\")\n",
    "\n",
    "\n"
   ]
  },
  {
   "cell_type": "markdown",
   "id": "f9446d8b-c6e5-4f30-8ff8-4b5fe7b4e54f",
   "metadata": {},
   "source": [
    "# for any Classifier we need Accuracy >= 70%/ 0.7"
   ]
  },
  {
   "cell_type": "code",
   "execution_count": 7,
   "id": "fa693377-d12d-4214-accb-38c4e674d3f4",
   "metadata": {},
   "outputs": [
    {
     "name": "stdout",
     "output_type": "stream",
     "text": [
      "[[ 0.03807591  0.05068012  0.06169621 ... -0.00259226  0.01990749\n",
      "  -0.01764613]\n",
      " [-0.00188202 -0.04464164 -0.05147406 ... -0.03949338 -0.06833155\n",
      "  -0.09220405]\n",
      " [ 0.08529891  0.05068012  0.04445121 ... -0.00259226  0.00286131\n",
      "  -0.02593034]\n",
      " ...\n",
      " [ 0.04170844  0.05068012 -0.01590626 ... -0.01107952 -0.04688253\n",
      "   0.01549073]\n",
      " [-0.04547248 -0.04464164  0.03906215 ...  0.02655962  0.04452873\n",
      "  -0.02593034]\n",
      " [-0.04547248 -0.04464164 -0.0730303  ... -0.03949338 -0.00422151\n",
      "   0.00306441]]\n",
      "[151.  75. 141. 206. 135.  97. 138.  63. 110. 310. 101.  69. 179. 185.\n",
      " 118. 171. 166. 144.  97. 168.  68.  49.  68. 245. 184. 202. 137.  85.\n",
      " 131. 283. 129.  59. 341.  87.  65. 102. 265. 276. 252.  90. 100.  55.\n",
      "  61.  92. 259.  53. 190. 142.  75. 142. 155. 225.  59. 104. 182. 128.\n",
      "  52.  37. 170. 170.  61. 144.  52. 128.  71. 163. 150.  97. 160. 178.\n",
      "  48. 270. 202. 111.  85.  42. 170. 200. 252. 113. 143.  51.  52. 210.\n",
      "  65. 141.  55. 134.  42. 111.  98. 164.  48.  96.  90. 162. 150. 279.\n",
      "  92.  83. 128. 102. 302. 198.  95.  53. 134. 144. 232.  81. 104.  59.\n",
      " 246. 297. 258. 229. 275. 281. 179. 200. 200. 173. 180.  84. 121. 161.\n",
      "  99. 109. 115. 268. 274. 158. 107.  83. 103. 272.  85. 280. 336. 281.\n",
      " 118. 317. 235.  60. 174. 259. 178. 128.  96. 126. 288.  88. 292.  71.\n",
      " 197. 186.  25.  84.  96. 195.  53. 217. 172. 131. 214.  59.  70. 220.\n",
      " 268. 152.  47.  74. 295. 101. 151. 127. 237. 225.  81. 151. 107.  64.\n",
      " 138. 185. 265. 101. 137. 143. 141.  79. 292. 178.  91. 116.  86. 122.\n",
      "  72. 129. 142.  90. 158.  39. 196. 222. 277.  99. 196. 202. 155.  77.\n",
      " 191.  70.  73.  49.  65. 263. 248. 296. 214. 185.  78.  93. 252. 150.\n",
      "  77. 208.  77. 108. 160.  53. 220. 154. 259.  90. 246. 124.  67.  72.\n",
      " 257. 262. 275. 177.  71.  47. 187. 125.  78.  51. 258. 215. 303. 243.\n",
      "  91. 150. 310. 153. 346.  63.  89.  50.  39. 103. 308. 116. 145.  74.\n",
      "  45. 115. 264.  87. 202. 127. 182. 241.  66.  94. 283.  64. 102. 200.\n",
      " 265.  94. 230. 181. 156. 233.  60. 219.  80.  68. 332. 248.  84. 200.\n",
      "  55.  85.  89.  31. 129.  83. 275.  65. 198. 236. 253. 124.  44. 172.\n",
      " 114. 142. 109. 180. 144. 163. 147.  97. 220. 190. 109. 191. 122. 230.\n",
      " 242. 248. 249. 192. 131. 237.  78. 135. 244. 199. 270. 164.  72.  96.\n",
      " 306.  91. 214.  95. 216. 263. 178. 113. 200. 139. 139.  88. 148.  88.\n",
      " 243.  71.  77. 109. 272.  60.  54. 221.  90. 311. 281. 182. 321.  58.\n",
      " 262. 206. 233. 242. 123. 167.  63. 197.  71. 168. 140. 217. 121. 235.\n",
      " 245.  40.  52. 104. 132.  88.  69. 219.  72. 201. 110.  51. 277.  63.\n",
      " 118.  69. 273. 258.  43. 198. 242. 232. 175.  93. 168. 275. 293. 281.\n",
      "  72. 140. 189. 181. 209. 136. 261. 113. 131. 174. 257.  55.  84.  42.\n",
      " 146. 212. 233.  91. 111. 152. 120.  67. 310.  94. 183.  66. 173.  72.\n",
      "  49.  64.  48. 178. 104. 132. 220.  57.]\n"
     ]
    }
   ],
   "source": [
    "### Supervised learning for Regression\n",
    "\n",
    "# historical data\n",
    "\n",
    "from sklearn.datasets import load_diabetes\n",
    "from sklearn.model_selection import train_test_split\n",
    "from sklearn.linear_model import LinearRegression\n",
    "from sklearn.metrics import mean_squared_error, r2_score\n",
    "\n",
    "diabetes = load_diabetes()\n",
    "X= diabetes.data # depending on length and width to predict the flower, X is a matrix contains all the features/variables that the model will use as features to estimate the output\n",
    "y= diabetes.target # y is a vector and it is the target value\n",
    "#print(X)  #to keep the code but not run it just use # comment\n",
    "#print(y)\n",
    "\n",
    "#split data\n",
    "X_train, X_test, y_train, y_test = train_test_split(X, y, test_size=0.3, random_state=42)\n",
    "\n",
    "#how to apply/train LinearRegression\n",
    "lreg = LinearRegression() # to call the model\n",
    "rf.fit(X_train, y_train) # to fit the model\n",
    "\n",
    "#how to measure the error of the regressot --> Evaluation --> Testing set \n",
    "y_pred = rf.predict(X_test)\n",
    "\n",
    "mse = mean_squared_error(y_test, y_pred) # mean squared absolute error\n",
    "r2 = r2_score(y_test, y_pred) # r2 score\n",
    "\n",
    "print(f\"Mean Squared Error: {mse:.2f}\")\n",
    "print(f\"R2 Score: {mse:.2f}\")\n",
    "\n",
    "\n"
   ]
  },
  {
   "cell_type": "markdown",
   "id": "947ec3e1-d61d-46b1-a21b-2507205e6421",
   "metadata": {},
   "source": [
    "# to prepare for the next class\n",
    "1. find the formulas mean squared absolute error, r2 score, accuracy. \n",
    "2. check the formulas and explain how they work in our models."
   ]
  },
  {
   "cell_type": "code",
   "execution_count": null,
   "id": "fb48991a-19a2-438d-8ba5-d7a6ce5a13cf",
   "metadata": {},
   "outputs": [],
   "source": []
  }
 ],
 "metadata": {
  "kernelspec": {
   "display_name": "Python 3 (ipykernel)",
   "language": "python",
   "name": "python3"
  },
  "language_info": {
   "codemirror_mode": {
    "name": "ipython",
    "version": 3
   },
   "file_extension": ".py",
   "mimetype": "text/x-python",
   "name": "python",
   "nbconvert_exporter": "python",
   "pygments_lexer": "ipython3",
   "version": "3.12.7"
  }
 },
 "nbformat": 4,
 "nbformat_minor": 5
}
