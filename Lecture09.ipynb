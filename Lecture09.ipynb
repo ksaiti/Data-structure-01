{
 "cells": [
  {
   "cell_type": "markdown",
   "id": "190f1c81-c555-4eb2-be1c-5c9773d6ea0a",
   "metadata": {},
   "source": [
    "# Hashing and Hash Tables\n",
    "\n",
    "### Putting elements\n",
    "\n",
    "We add elements to the hash with the put() function"
   ]
  },
  {
   "cell_type": "code",
   "execution_count": null,
   "id": "29171254-9764-448b-89e2-05fe7966aea8",
   "metadata": {},
   "outputs": [],
   "source": [
    "def put(self, key, value):\n",
    "    item = HashItem(key, value)\n",
    "    h = self._hash(key)"
   ]
  },
  {
   "attachments": {
    "6c2f8937-2d30-47be-960f-509b64fe84f0.png": {
     "image/png": "[encoded data removed]"
    }
   },
   "cell_type": "markdown",
   "id": "24928fda-dbab-47cf-bb34-0c1241668c99",
   "metadata": {},
   "source": [
    "![image.png](attachment:6c2f8937-2d30-47be-960f-509b64fe84f0.png)"
   ]
  },
  {
   "cell_type": "code",
   "execution_count": null,
   "id": "17d9b5ee-8478-41ed-b04b-c8f823520295",
   "metadata": {},
   "outputs": [],
   "source": [
    "while self.slots[h] is not None:\n",
    "    if self.slots[h].key is key:\n",
    "       break\n",
    "    h = (h+1) % self.size"
   ]
  },
  {
   "cell_type": "code",
   "execution_count": null,
   "id": "16481302-67df-4186-a82f-0323df9427d3",
   "metadata": {},
   "outputs": [],
   "source": [
    "if self.slots[h] is None:\n",
    "    self.count +=1\n",
    "self.slots[h] = item  % now insert the element\n",
    "\n",
    "# getting the element\n",
    "def get(self, key):\n",
    "    h = self._hash(key)\n",
    "\n",
    "\n"
   ]
  },
  {
   "cell_type": "code",
   "execution_count": null,
   "id": "ad6d0a87-d611-4408-bb5f-246cbbfc9975",
   "metadata": {},
   "outputs": [],
   "source": [
    "class HashItem:\n",
    "    def _init_(self, key, value): # _init_ function to create dictionaries\n",
    "        self.key = key             # main body \n",
    "        self.value = value \n"
   ]
  },
  {
   "cell_type": "code",
   "execution_count": null,
   "id": "0c3845a3-88c5-4293-8988-dee7fe09b315",
   "metadata": {},
   "outputs": [],
   "source": [
    "class HashTable:\n",
    "    def _init_(self):\n",
    "        self.size = 256\n",
    "        self.slots = [None for i in range(self.size)]\n",
    "        self.count = 0  # start with the first element as zero"
   ]
  },
  {
   "cell_type": "code",
   "execution_count": null,
   "id": "a27d7f38-533f-4bee-a703-9c88df899cf1",
   "metadata": {},
   "outputs": [],
   "source": [
    "def put(self, key, value):\n",
    "    item = HashItem(key, value)\n",
    "    h = self._hash(key)"
   ]
  },
  {
   "cell_type": "code",
   "execution_count": null,
   "id": "44101f45-bd41-4267-939f-5259c223ad78",
   "metadata": {},
   "outputs": [],
   "source": [
    "while self.slots[h] is not None:\n",
    "    if self.slots[h].key is key:\n",
    "       break\n",
    "    h = (h+1) % self.size"
   ]
  },
  {
   "cell_type": "code",
   "execution_count": null,
   "id": "609b03fe-4e96-4b51-bdc0-aa091dc7030c",
   "metadata": {},
   "outputs": [],
   "source": [
    "if self.slots[h] is None:\n",
    "    self.count +=1\n",
    "self.slots[h] = item  # now insert the element\n",
    "\n",
    "# getting the element\n",
    "def get(self, key):\n",
    "    h = self._hash(key)"
   ]
  },
  {
   "cell_type": "code",
   "execution_count": null,
   "id": "e1cb6113-3cf9-4658-963d-daff120e8ac0",
   "metadata": {},
   "outputs": [],
   "source": [
    "# Testing the hash table\n",
    "def put(self, key, value):\n",
    "    item = HashItem(key, value)\n",
    "    h = self._hash(key)\n",
    "ht = HashTable()\n",
    "ht.put(\"good\", \"eggs\")\n",
    "ht.put(\"better\", \"ham\")\n",
    "ht.put(\"best\", \"spam\")\n",
    "ht.put(\"add\", \"do not\")\n",
    "\n",
    "ht.put(\"ga\", \"collide\")"
   ]
  },
  {
   "cell_type": "code",
   "execution_count": null,
   "id": "fb8f9029-be82-4976-aa3d-4bd7751fd0be",
   "metadata": {},
   "outputs": [],
   "source": [
    "class HashItem:\n",
    "    def _init_(self, key, value): # _init_ function to create dictionaries\n",
    "        self.key = key             # main body \n",
    "        self.value = value \n",
    "\n",
    "# this class gives a simple example of how to store data in dictionaries\n",
    "class HashTable:\n",
    "    def _init_(self):\n",
    "        self.size = 256\n",
    "        self.slots = [None for i in range(self.size)]\n",
    "        self.count = 0  # start with the first element as zero\n",
    "\n",
    "def put(self, key, value):\n",
    "    item = HashItem(key, value)\n",
    "    h = self._hash(key)\n",
    "\n",
    "ht = HashTable()\n",
    "ht.put(\"good\", \"eggs\")\n",
    "ht.put(\"better\", \"ham\")\n",
    "ht.put(\"best\", \"spam\")\n",
    "ht.put(\"add\", \"do not\")"
   ]
  },
  {
   "cell_type": "code",
   "execution_count": 1,
   "id": "f2e0451e-05b3-40b5-bb32-f46ce4777627",
   "metadata": {},
   "outputs": [
    {
     "name": "stdout",
     "output_type": "stream",
     "text": [
      "[None, None, None, None, None, None, None, None, None, None, None, None, None, None, None, None, None, None, None, None, None, None, None, None, None, None, None, None, None, None, None, None, None, None, None, None, None, None, None, None, None, None, None, None, None, None, None, None, None, None, None, None, [('ad', 'do not')], None, None, None, None, None, None, None, None, None, None, None, None, None, None, None, None, None, None, None, None, None, None, None, None, None, None, None, None, None, None, None, None, None, None, [('apple', 10)], None, None, None, None, None, None, None, None, None, None, None, None, None, None, None, None, None, None, None, None, None, None, None, None, None, None, None, None, None, None, None, None, None, None, None, None, None, None, None, None, None, None, None, None, None, None, None, None, None, None, None, None, None, None, None, None, None, None, None, None, None, None, None, None, None, None, None, None, None, None, None, None, None, None, None, None, None, None, None, None, None, None, None, None, None, None, None, None, None, None, None, None, None, None, None, None, [('banana', 20)], None, None, None, None, None, None, None, None, None, None, None, None, None, None, None, None, None, None, None, None, None, None, None, None, None, None, None, None, None, None, None, None, None, None, None, None, None, None, None, None, None, None, None, None, None, None, None, None, None, None, [('better', 'spam')], None, None, None, None, None, None, None, None, None, None, None, None, None, None, None, None, None, None, None, None]\n"
     ]
    }
   ],
   "source": [
    "class HashTable:\n",
    "    def __init__(self, size=256):\n",
    "        self.size = size\n",
    "        self.table = [None]* size\n",
    "\n",
    "    def _hash(self, key):\n",
    "        return hash(key) % self.size  # hash(apple) (hash apple changes everytime we run the code) % 10 --> \"apple\" maps to index 4, 5, 3\n",
    "\n",
    "    def put(self, key, value):\n",
    "        index = self._hash(key)\n",
    "        if self.table[index] is None:\n",
    "            self.table[index] = []\n",
    "       #update if key already exists\n",
    "        for i, (k, v) in enumerate(self.table[index]):\n",
    "            if k == key:\n",
    "               self.table[index[i]] = (key, value)\n",
    "               return\n",
    "        #else append new key-value pair\n",
    "        self.table[index].append((key, value))\n",
    "\n",
    "    def __str__(self):\n",
    "        return str(self.table)\n",
    "\n",
    "#test the hashtable\n",
    "ht = HashTable()\n",
    "ht.put(\"apple\", 10) # key = \"apple\", value = 10\n",
    "ht.put(\"banana\", 20)\n",
    "ht.put(\"better\", \"spam\")\n",
    "ht.put(\"ad\", \"do not\")\n",
    "\n",
    "print(ht)"
   ]
  },
  {
   "cell_type": "code",
   "execution_count": null,
   "id": "adb169e0-9f6e-4761-aa85-85ff6befb8e7",
   "metadata": {},
   "outputs": [],
   "source": [
    "ht.put(\"apple\", 10)\n",
    "ht.put(\"banana\", 20)\n",
    "\n",
    "print(ht)"
   ]
  },
  {
   "cell_type": "code",
   "execution_count": null,
   "id": "c3fff63f-fd2f-4a1c-bd13-3fde069f5879",
   "metadata": {},
   "outputs": [],
   "source": [
    "hash(\"apple\")"
   ]
  },
  {
   "cell_type": "markdown",
   "id": "129a37f2-6841-42ab-8962-e7a5ec17c5cf",
   "metadata": {},
   "source": [
    "# Growing a hash table"
   ]
  },
  {
   "cell_type": "markdown",
   "id": "81991047-47e4-42d4-9289-7f5cd036bfc6",
   "metadata": {},
   "source": [
    "# Our example so far, size = 256 \n",
    "\n",
    "## how to change the size \n"
   ]
  },
  {
   "attachments": {
    "a99deaf7-86a2-46f7-9f20-1d4e9c40aee2.png": {
     "image/png": "[encoded data removed]"
    }
   },
   "cell_type": "markdown",
   "id": "370d9b86-e73b-488b-9c5a-118cfbfb1d61",
   "metadata": {},
   "source": [
    "![image.png](attachment:a99deaf7-86a2-46f7-9f20-1d4e9c40aee2.png)"
   ]
  },
  {
   "cell_type": "markdown",
   "id": "c72163af-11d3-4686-8b0d-52ec0c5c8baa",
   "metadata": {},
   "source": [
    "n is the number of used slots\n",
    "k is the total number of slots\n",
    "\n",
    "when the size is fixed (like 256), what will happen eventually, the table will be full\n",
    "when the table is full I want to automatically increase the size\n",
    "\n",
    "load factor is an inticator that shows us how many slots are already used. \n",
    "\n",
    "maximum value that load factor can be == load factor = (n = k, eg. 256=256) == 1\n",
    "minimum = 0 \n",
    "\n",
    "example: load factor = 0.1 ( hash table almost empty)\n",
    "         load factor = 0.9 (hash table almost full)\n",
    "         load factor = 0.5 (hash table 50 empty 50 full)\n",
    "         "
   ]
  }
 ],
 "metadata": {
  "kernelspec": {
   "display_name": "Python 3 (ipykernel)",
   "language": "python",
   "name": "python3"
  },
  "language_info": {
   "codemirror_mode": {
    "name": "ipython",
    "version": 3
   },
   "file_extension": ".py",
   "mimetype": "text/x-python",
   "name": "python",
   "nbconvert_exporter": "python",
   "pygments_lexer": "ipython3",
   "version": "3.12.7"
  }
 },
 "nbformat": 4,
 "nbformat_minor": 5
}
