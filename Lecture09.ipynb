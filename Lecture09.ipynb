{
 "cells": [
  {
   "cell_type": "markdown",
   "id": "190f1c81-c555-4eb2-be1c-5c9773d6ea0a",
   "metadata": {},
   "source": [
    "# Hashing and Hash Tables\n",
    "\n",
    "### Putting elements\n",
    "\n",
    "We add elements to the hash with the put() function"
   ]
  },
  {
   "cell_type": "code",
   "execution_count": 1,
   "id": "29171254-9764-448b-89e2-05fe7966aea8",
   "metadata": {},
   "outputs": [],
   "source": [
    "def put(self, key, value):\n",
    "    item = HashItem(key, value)\n",
    "    h = self._hash(key)"
   ]
  },
  {
   "attachments": {
    "6c2f8937-2d30-47be-960f-509b64fe84f0.png": {
     "image/png": "[encoded data removed]"
    }
   },
   "cell_type": "markdown",
   "id": "24928fda-dbab-47cf-bb34-0c1241668c99",
   "metadata": {},
   "source": [
    "![image.png](attachment:6c2f8937-2d30-47be-960f-509b64fe84f0.png)"
   ]
  },
  {
   "cell_type": "code",
   "execution_count": 2,
   "id": "17d9b5ee-8478-41ed-b04b-c8f823520295",
   "metadata": {},
   "outputs": [
    {
     "ename": "NameError",
     "evalue": "name 'self' is not defined",
     "output_type": "error",
     "traceback": [
      "\u001b[1;31m---------------------------------------------------------------------------\u001b[0m",
      "\u001b[1;31mNameError\u001b[0m                                 Traceback (most recent call last)",
      "Cell \u001b[1;32mIn[2], line 1\u001b[0m\n\u001b[1;32m----> 1\u001b[0m \u001b[38;5;28;01mwhile\u001b[39;00m \u001b[38;5;28mself\u001b[39m\u001b[38;5;241m.\u001b[39mslots[h] \u001b[38;5;129;01mis\u001b[39;00m \u001b[38;5;129;01mnot\u001b[39;00m \u001b[38;5;28;01mNone\u001b[39;00m:\n\u001b[0;32m      2\u001b[0m     \u001b[38;5;28;01mif\u001b[39;00m \u001b[38;5;28mself\u001b[39m\u001b[38;5;241m.\u001b[39mslots[h]\u001b[38;5;241m.\u001b[39mkey \u001b[38;5;129;01mis\u001b[39;00m key:\n\u001b[0;32m      3\u001b[0m        \u001b[38;5;28;01mbreak\u001b[39;00m\n",
      "\u001b[1;31mNameError\u001b[0m: name 'self' is not defined"
     ]
    }
   ],
   "source": [
    "while self.slots[h] is not None:\n",
    "    if self.slots[h].key is key:\n",
    "       break\n",
    "    h = (h+1) % self.size"
   ]
  },
  {
   "cell_type": "code",
   "execution_count": null,
   "id": "16481302-67df-4186-a82f-0323df9427d3",
   "metadata": {},
   "outputs": [],
   "source": [
    "if self.slots[h] is None:\n",
    "    self.count +=1\n",
    "self.slots[h] = item  % now insert the element\n",
    "\n",
    "# getting the element\n",
    "def get(self, key):\n",
    "    h = self._hash(key)\n",
    "\n",
    "\n"
   ]
  },
  {
   "cell_type": "code",
   "execution_count": 7,
   "id": "ad6d0a87-d611-4408-bb5f-246cbbfc9975",
   "metadata": {},
   "outputs": [],
   "source": [
    "class HashItem:\n",
    "    def _init_(self, key, value): # _init_ function to create dictionaries\n",
    "        self.key = key             # main body \n",
    "        self.value = value \n"
   ]
  },
  {
   "cell_type": "code",
   "execution_count": 8,
   "id": "0c3845a3-88c5-4293-8988-dee7fe09b315",
   "metadata": {},
   "outputs": [],
   "source": [
    "class HashTable:\n",
    "    def _init_(self):\n",
    "        self.size = 256\n",
    "        self.slots = [None for i in range(self.size)]\n",
    "        self.count = 0  # start with the first element as zero"
   ]
  },
  {
   "cell_type": "code",
   "execution_count": 9,
   "id": "a27d7f38-533f-4bee-a703-9c88df899cf1",
   "metadata": {},
   "outputs": [],
   "source": [
    "def put(self, key, value):\n",
    "    item = HashItem(key, value)\n",
    "    h = self._hash(key)"
   ]
  },
  {
   "cell_type": "code",
   "execution_count": 10,
   "id": "44101f45-bd41-4267-939f-5259c223ad78",
   "metadata": {},
   "outputs": [
    {
     "ename": "NameError",
     "evalue": "name 'self' is not defined",
     "output_type": "error",
     "traceback": [
      "\u001b[1;31m---------------------------------------------------------------------------\u001b[0m",
      "\u001b[1;31mNameError\u001b[0m                                 Traceback (most recent call last)",
      "Cell \u001b[1;32mIn[10], line 1\u001b[0m\n\u001b[1;32m----> 1\u001b[0m \u001b[38;5;28;01mwhile\u001b[39;00m \u001b[38;5;28mself\u001b[39m\u001b[38;5;241m.\u001b[39mslots[h] \u001b[38;5;129;01mis\u001b[39;00m \u001b[38;5;129;01mnot\u001b[39;00m \u001b[38;5;28;01mNone\u001b[39;00m:\n\u001b[0;32m      2\u001b[0m     \u001b[38;5;28;01mif\u001b[39;00m \u001b[38;5;28mself\u001b[39m\u001b[38;5;241m.\u001b[39mslots[h]\u001b[38;5;241m.\u001b[39mkey \u001b[38;5;129;01mis\u001b[39;00m key:\n\u001b[0;32m      3\u001b[0m        \u001b[38;5;28;01mbreak\u001b[39;00m\n",
      "\u001b[1;31mNameError\u001b[0m: name 'self' is not defined"
     ]
    }
   ],
   "source": [
    "while self.slots[h] is not None:\n",
    "    if self.slots[h].key is key:\n",
    "       break\n",
    "    h = (h+1) % self.size"
   ]
  },
  {
   "cell_type": "code",
   "execution_count": 12,
   "id": "609b03fe-4e96-4b51-bdc0-aa091dc7030c",
   "metadata": {},
   "outputs": [
    {
     "ename": "NameError",
     "evalue": "name 'self' is not defined",
     "output_type": "error",
     "traceback": [
      "\u001b[1;31m---------------------------------------------------------------------------\u001b[0m",
      "\u001b[1;31mNameError\u001b[0m                                 Traceback (most recent call last)",
      "Cell \u001b[1;32mIn[12], line 1\u001b[0m\n\u001b[1;32m----> 1\u001b[0m \u001b[38;5;28;01mif\u001b[39;00m \u001b[38;5;28mself\u001b[39m\u001b[38;5;241m.\u001b[39mslots[h] \u001b[38;5;129;01mis\u001b[39;00m \u001b[38;5;28;01mNone\u001b[39;00m:\n\u001b[0;32m      2\u001b[0m     \u001b[38;5;28mself\u001b[39m\u001b[38;5;241m.\u001b[39mcount \u001b[38;5;241m+\u001b[39m\u001b[38;5;241m=\u001b[39m\u001b[38;5;241m1\u001b[39m\n\u001b[0;32m      3\u001b[0m \u001b[38;5;28mself\u001b[39m\u001b[38;5;241m.\u001b[39mslots[h] \u001b[38;5;241m=\u001b[39m item  \u001b[38;5;66;03m# now insert the element\u001b[39;00m\n",
      "\u001b[1;31mNameError\u001b[0m: name 'self' is not defined"
     ]
    }
   ],
   "source": [
    "if self.slots[h] is None:\n",
    "    self.count +=1\n",
    "self.slots[h] = item  # now insert the element\n",
    "\n",
    "# getting the element\n",
    "def get(self, key):\n",
    "    h = self._hash(key)"
   ]
  },
  {
   "cell_type": "code",
   "execution_count": 14,
   "id": "e1cb6113-3cf9-4658-963d-daff120e8ac0",
   "metadata": {},
   "outputs": [
    {
     "ename": "AttributeError",
     "evalue": "'HashTable' object has no attribute 'put'",
     "output_type": "error",
     "traceback": [
      "\u001b[1;31m---------------------------------------------------------------------------\u001b[0m",
      "\u001b[1;31mAttributeError\u001b[0m                            Traceback (most recent call last)",
      "Cell \u001b[1;32mIn[14], line 6\u001b[0m\n\u001b[0;32m      4\u001b[0m     h \u001b[38;5;241m=\u001b[39m \u001b[38;5;28mself\u001b[39m\u001b[38;5;241m.\u001b[39m_hash(key)\n\u001b[0;32m      5\u001b[0m ht \u001b[38;5;241m=\u001b[39m HashTable()\n\u001b[1;32m----> 6\u001b[0m ht\u001b[38;5;241m.\u001b[39mput(\u001b[38;5;124m\"\u001b[39m\u001b[38;5;124mgood\u001b[39m\u001b[38;5;124m\"\u001b[39m, \u001b[38;5;124m\"\u001b[39m\u001b[38;5;124meggs\u001b[39m\u001b[38;5;124m\"\u001b[39m)\n\u001b[0;32m      7\u001b[0m ht\u001b[38;5;241m.\u001b[39mput(\u001b[38;5;124m\"\u001b[39m\u001b[38;5;124mbetter\u001b[39m\u001b[38;5;124m\"\u001b[39m, \u001b[38;5;124m\"\u001b[39m\u001b[38;5;124mham\u001b[39m\u001b[38;5;124m\"\u001b[39m)\n\u001b[0;32m      8\u001b[0m ht\u001b[38;5;241m.\u001b[39mput(\u001b[38;5;124m\"\u001b[39m\u001b[38;5;124mbest\u001b[39m\u001b[38;5;124m\"\u001b[39m, \u001b[38;5;124m\"\u001b[39m\u001b[38;5;124mspam\u001b[39m\u001b[38;5;124m\"\u001b[39m)\n",
      "\u001b[1;31mAttributeError\u001b[0m: 'HashTable' object has no attribute 'put'"
     ]
    }
   ],
   "source": [
    "# Testing the hash table\n",
    "def put(self, key, value):\n",
    "    item = HashItem(key, value)\n",
    "    h = self._hash(key)\n",
    "ht = HashTable()\n",
    "ht.put(\"good\", \"eggs\")\n",
    "ht.put(\"better\", \"ham\")\n",
    "ht.put(\"best\", \"spam\")\n",
    "ht.put(\"add\", \"do not\")\n",
    "\n",
    "ht.put(\"ga\", \"collide\")"
   ]
  },
  {
   "cell_type": "code",
   "execution_count": 16,
   "id": "fb8f9029-be82-4976-aa3d-4bd7751fd0be",
   "metadata": {},
   "outputs": [
    {
     "ename": "AttributeError",
     "evalue": "'HashTable' object has no attribute 'put'",
     "output_type": "error",
     "traceback": [
      "\u001b[1;31m---------------------------------------------------------------------------\u001b[0m",
      "\u001b[1;31mAttributeError\u001b[0m                            Traceback (most recent call last)",
      "Cell \u001b[1;32mIn[16], line 18\u001b[0m\n\u001b[0;32m     15\u001b[0m     h \u001b[38;5;241m=\u001b[39m \u001b[38;5;28mself\u001b[39m\u001b[38;5;241m.\u001b[39m_hash(key)\n\u001b[0;32m     17\u001b[0m ht \u001b[38;5;241m=\u001b[39m HashTable()\n\u001b[1;32m---> 18\u001b[0m ht\u001b[38;5;241m.\u001b[39mput(\u001b[38;5;124m\"\u001b[39m\u001b[38;5;124mgood\u001b[39m\u001b[38;5;124m\"\u001b[39m, \u001b[38;5;124m\"\u001b[39m\u001b[38;5;124meggs\u001b[39m\u001b[38;5;124m\"\u001b[39m)\n\u001b[0;32m     19\u001b[0m ht\u001b[38;5;241m.\u001b[39mput(\u001b[38;5;124m\"\u001b[39m\u001b[38;5;124mbetter\u001b[39m\u001b[38;5;124m\"\u001b[39m, \u001b[38;5;124m\"\u001b[39m\u001b[38;5;124mham\u001b[39m\u001b[38;5;124m\"\u001b[39m)\n\u001b[0;32m     20\u001b[0m ht\u001b[38;5;241m.\u001b[39mput(\u001b[38;5;124m\"\u001b[39m\u001b[38;5;124mbest\u001b[39m\u001b[38;5;124m\"\u001b[39m, \u001b[38;5;124m\"\u001b[39m\u001b[38;5;124mspam\u001b[39m\u001b[38;5;124m\"\u001b[39m)\n",
      "\u001b[1;31mAttributeError\u001b[0m: 'HashTable' object has no attribute 'put'"
     ]
    }
   ],
   "source": [
    "class HashItem:\n",
    "    def _init_(self, key, value): # _init_ function to create dictionaries\n",
    "        self.key = key             # main body \n",
    "        self.value = value \n",
    "\n",
    "# this class gives a simple example of how to store data in dictionaries\n",
    "class HashTable:\n",
    "    def _init_(self):\n",
    "        self.size = 256\n",
    "        self.slots = [None for i in range(self.size)]\n",
    "        self.count = 0  # start with the first element as zero\n",
    "\n",
    "def put(self, key, value):\n",
    "    item = HashItem(key, value)\n",
    "    h = self._hash(key)\n",
    "\n",
    "ht = HashTable()\n",
    "ht.put(\"good\", \"eggs\")\n",
    "ht.put(\"better\", \"ham\")\n",
    "ht.put(\"best\", \"spam\")\n",
    "ht.put(\"add\", \"do not\")"
   ]
  },
  {
   "cell_type": "code",
   "execution_count": null,
   "id": "f2e0451e-05b3-40b5-bb32-f46ce4777627",
   "metadata": {},
   "outputs": [],
   "source": []
  }
 ],
 "metadata": {
  "kernelspec": {
   "display_name": "Python 3 (ipykernel)",
   "language": "python",
   "name": "python3"
  },
  "language_info": {
   "codemirror_mode": {
    "name": "ipython",
    "version": 3
   },
   "file_extension": ".py",
   "mimetype": "text/x-python",
   "name": "python",
   "nbconvert_exporter": "python",
   "pygments_lexer": "ipython3",
   "version": "3.12.7"
  }
 },
 "nbformat": 4,
 "nbformat_minor": 5
}
